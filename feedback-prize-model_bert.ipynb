{
 "cells": [
  {
   "cell_type": "markdown",
   "id": "0d85d75f",
   "metadata": {
    "papermill": {
     "duration": 0.010554,
     "end_time": "2022-06-16T17:06:45.895976",
     "exception": false,
     "start_time": "2022-06-16T17:06:45.885422",
     "status": "completed"
    },
    "tags": []
   },
   "source": [
    "# Model training"
   ]
  },
  {
   "cell_type": "code",
   "execution_count": 1,
   "id": "7d6587ce",
   "metadata": {
    "execution": {
     "iopub.execute_input": "2022-06-16T17:06:45.917046Z",
     "iopub.status.busy": "2022-06-16T17:06:45.916339Z",
     "iopub.status.idle": "2022-06-16T17:06:51.363265Z",
     "shell.execute_reply": "2022-06-16T17:06:51.362199Z"
    },
    "papermill": {
     "duration": 5.46078,
     "end_time": "2022-06-16T17:06:51.366186",
     "exception": false,
     "start_time": "2022-06-16T17:06:45.905406",
     "status": "completed"
    },
    "tags": []
   },
   "outputs": [],
   "source": [
    "import os\n",
    "import random\n",
    "import tensorflow as tf\n",
    "import pandas as pd\n",
    "import numpy as np\n",
    "import matplotlib.pyplot as plt\n",
    "%matplotlib inline"
   ]
  },
  {
   "cell_type": "code",
   "execution_count": 2,
   "id": "10523fbd",
   "metadata": {
    "execution": {
     "iopub.execute_input": "2022-06-16T17:06:51.387937Z",
     "iopub.status.busy": "2022-06-16T17:06:51.387266Z",
     "iopub.status.idle": "2022-06-16T17:06:51.679091Z",
     "shell.execute_reply": "2022-06-16T17:06:51.678076Z"
    },
    "papermill": {
     "duration": 0.305821,
     "end_time": "2022-06-16T17:06:51.681866",
     "exception": false,
     "start_time": "2022-06-16T17:06:51.376045",
     "status": "completed"
    },
    "tags": []
   },
   "outputs": [],
   "source": [
    "df_train = pd.read_csv('../input/feedback-prize-effectiveness/train.csv')"
   ]
  },
  {
   "cell_type": "markdown",
   "id": "28915678",
   "metadata": {
    "papermill": {
     "duration": 0.00902,
     "end_time": "2022-06-16T17:06:51.700059",
     "exception": false,
     "start_time": "2022-06-16T17:06:51.691039",
     "status": "completed"
    },
    "tags": []
   },
   "source": [
    "### Reproducibility"
   ]
  },
  {
   "cell_type": "code",
   "execution_count": 3,
   "id": "bc88962c",
   "metadata": {
    "execution": {
     "iopub.execute_input": "2022-06-16T17:06:51.719783Z",
     "iopub.status.busy": "2022-06-16T17:06:51.719357Z",
     "iopub.status.idle": "2022-06-16T17:06:51.729736Z",
     "shell.execute_reply": "2022-06-16T17:06:51.728646Z"
    },
    "papermill": {
     "duration": 0.022794,
     "end_time": "2022-06-16T17:06:51.731920",
     "exception": false,
     "start_time": "2022-06-16T17:06:51.709126",
     "status": "completed"
    },
    "tags": []
   },
   "outputs": [],
   "source": [
    "seed = 33\n",
    "\n",
    "os.environ['PYTHONHASHSEED'] = str(seed)\n",
    "random.seed(seed)\n",
    "tf.random.set_seed(seed)\n",
    "np.random.seed(seed)\n",
    "\n",
    "tf.config.threading.set_inter_op_parallelism_threads(1)\n",
    "tf.config.threading.set_intra_op_parallelism_threads(1)\n",
    "\n",
    "def set_global_determinism(seed=seed, fast_n_close=False):\n",
    "    \"\"\"\n",
    "        Enable 100% reproducibility on operations related to tensor and randomness.\n",
    "        Parameters:\n",
    "        seed (int): seed value for global randomness\n",
    "        fast_n_close (bool): whether to achieve efficient at the cost of determinism/reproducibility\n",
    "    \"\"\"\n",
    "    set_seeds(seed=seed)\n",
    "    if fast_n_close:\n",
    "        return\n",
    "\n",
    "    logging.warning(\"*******************************************************************************\")\n",
    "    logging.warning(\"*** set_global_determinism is called,setting full determinism, will be slow ***\")\n",
    "    logging.warning(\"*******************************************************************************\")\n",
    "\n",
    "    os.environ['TF_DETERMINISTIC_OPS'] = '1'\n",
    "    os.environ['TF_CUDNN_DETERMINISTIC'] = '1'\n",
    "    # https://www.tensorflow.org/api_docs/python/tf/config/threading/set_inter_op_parallelism_threads\n",
    "    tf.config.threading.set_inter_op_parallelism_threads(1)\n",
    "    tf.config.threading.set_intra_op_parallelism_threads(1)\n",
    "    from tfdeterminism import patch\n",
    "    patch()"
   ]
  },
  {
   "cell_type": "markdown",
   "id": "a3dbaae6",
   "metadata": {
    "papermill": {
     "duration": 0.008397,
     "end_time": "2022-06-16T17:06:51.749173",
     "exception": false,
     "start_time": "2022-06-16T17:06:51.740776",
     "status": "completed"
    },
    "tags": []
   },
   "source": [
    "## Training"
   ]
  },
  {
   "cell_type": "code",
   "execution_count": 4,
   "id": "c155180c",
   "metadata": {
    "execution": {
     "iopub.execute_input": "2022-06-16T17:06:51.769099Z",
     "iopub.status.busy": "2022-06-16T17:06:51.768675Z",
     "iopub.status.idle": "2022-06-16T17:06:51.774321Z",
     "shell.execute_reply": "2022-06-16T17:06:51.773264Z"
    },
    "papermill": {
     "duration": 0.018339,
     "end_time": "2022-06-16T17:06:51.776454",
     "exception": false,
     "start_time": "2022-06-16T17:06:51.758115",
     "status": "completed"
    },
    "tags": []
   },
   "outputs": [],
   "source": [
    "config = {\n",
    "    'submit': True,\n",
    "    'n_samples': 0,\n",
    "#     'test_size': 0.1,\n",
    "    'test_size': 0.0,\n",
    "    'val_size': 0.1,\n",
    "    'MAX_LEN': 512,\n",
    "    'batch_size': 12,\n",
    "}\n",
    "checkpoint_filepath = '/model'"
   ]
  },
  {
   "cell_type": "markdown",
   "id": "2e2aa270",
   "metadata": {
    "papermill": {
     "duration": 0.008686,
     "end_time": "2022-06-16T17:06:51.793914",
     "exception": false,
     "start_time": "2022-06-16T17:06:51.785228",
     "status": "completed"
    },
    "tags": []
   },
   "source": [
    "### Sets"
   ]
  },
  {
   "cell_type": "code",
   "execution_count": 5,
   "id": "a75118e3",
   "metadata": {
    "execution": {
     "iopub.execute_input": "2022-06-16T17:06:51.814097Z",
     "iopub.status.busy": "2022-06-16T17:06:51.813364Z",
     "iopub.status.idle": "2022-06-16T17:06:55.617972Z",
     "shell.execute_reply": "2022-06-16T17:06:55.616552Z"
    },
    "papermill": {
     "duration": 3.818659,
     "end_time": "2022-06-16T17:06:55.621744",
     "exception": false,
     "start_time": "2022-06-16T17:06:51.803085",
     "status": "completed"
    },
    "tags": []
   },
   "outputs": [],
   "source": [
    "from transformers import TFBertModel\n",
    "import transformers\n",
    "\n",
    "def bert_encode(texts, tokenizer, max_len=config['MAX_LEN']):\n",
    "    input_ids = []\n",
    "    token_type_ids = []\n",
    "    attention_mask = []\n",
    "    \n",
    "    for text in texts:\n",
    "        token = tokenizer(text, max_length=max_len, truncation=True, padding='max_length',\n",
    "                         add_special_tokens=True)\n",
    "        input_ids.append(token['input_ids'])\n",
    "        token_type_ids.append(token['token_type_ids'])\n",
    "        attention_mask.append(token['attention_mask'])\n",
    "    \n",
    "    return np.array(input_ids), np.array(token_type_ids), np.array(attention_mask)"
   ]
  },
  {
   "cell_type": "code",
   "execution_count": 6,
   "id": "5c0c15c5",
   "metadata": {
    "execution": {
     "iopub.execute_input": "2022-06-16T17:06:55.660199Z",
     "iopub.status.busy": "2022-06-16T17:06:55.659444Z",
     "iopub.status.idle": "2022-06-16T17:06:55.824733Z",
     "shell.execute_reply": "2022-06-16T17:06:55.823613Z"
    },
    "papermill": {
     "duration": 0.190913,
     "end_time": "2022-06-16T17:06:55.829870",
     "exception": false,
     "start_time": "2022-06-16T17:06:55.638957",
     "status": "completed"
    },
    "tags": []
   },
   "outputs": [
    {
     "data": {
      "text/plain": [
       "('./tokenizer_config.json',\n",
       " './special_tokens_map.json',\n",
       " './vocab.txt',\n",
       " './added_tokens.json')"
      ]
     },
     "execution_count": 6,
     "metadata": {},
     "output_type": "execute_result"
    }
   ],
   "source": [
    "# First load the real tokenizer\n",
    "tokenizer = transformers.BertTokenizer.from_pretrained('../input/huggingface-bert-variants/bert-base-cased/bert-base-cased')\n",
    "# Save the loaded tokenizer locally\n",
    "tokenizer.save_pretrained('.')"
   ]
  },
  {
   "cell_type": "markdown",
   "id": "331f37fc",
   "metadata": {
    "papermill": {
     "duration": 0.014726,
     "end_time": "2022-06-16T17:06:55.860514",
     "exception": false,
     "start_time": "2022-06-16T17:06:55.845788",
     "status": "completed"
    },
    "tags": []
   },
   "source": [
    "## Data preparation"
   ]
  },
  {
   "cell_type": "code",
   "execution_count": 7,
   "id": "05439e51",
   "metadata": {
    "execution": {
     "iopub.execute_input": "2022-06-16T17:06:55.893808Z",
     "iopub.status.busy": "2022-06-16T17:06:55.892632Z",
     "iopub.status.idle": "2022-06-16T17:06:55.906097Z",
     "shell.execute_reply": "2022-06-16T17:06:55.905136Z"
    },
    "papermill": {
     "duration": 0.033193,
     "end_time": "2022-06-16T17:06:55.909274",
     "exception": false,
     "start_time": "2022-06-16T17:06:55.876081",
     "status": "completed"
    },
    "tags": []
   },
   "outputs": [],
   "source": [
    "sep = tokenizer.sep_token\n",
    "cls = tokenizer.cls_token\n",
    "\n",
    "def preprocess(df_train, n_samples = 0):\n",
    "    if n_samples != 0:\n",
    "        df_train = df_train.sample(n=n_samples, random_state = seed)\n",
    "    \n",
    "    # Label encoding\n",
    "    new_label = {\"discourse_effectiveness\": {\"Ineffective\": 0, \"Adequate\": 1, \"Effective\": 2}}\n",
    "    df_train = df_train.replace(new_label)\n",
    "    df_train = df_train.rename(columns = {\"discourse_effectiveness\": \"label\"})\n",
    "    # One-hot encode and set columns in order\n",
    "#     y = pd.get_dummies(df_train['discourse_effectiveness'])\n",
    "#     y = y[['Ineffective','Adequate','Effective']]\n",
    "\n",
    "#     sep = tokenizer.sep_token\n",
    "    df_train['input'] = cls + df_train.discourse_type + sep + df_train.discourse_text\n",
    "\n",
    "    X = df_train['input']\n",
    "    y = df_train['label']\n",
    "    \n",
    "    return X, y"
   ]
  },
  {
   "cell_type": "code",
   "execution_count": 8,
   "id": "432b3850",
   "metadata": {
    "execution": {
     "iopub.execute_input": "2022-06-16T17:06:55.941205Z",
     "iopub.status.busy": "2022-06-16T17:06:55.940682Z",
     "iopub.status.idle": "2022-06-16T17:06:57.149234Z",
     "shell.execute_reply": "2022-06-16T17:06:57.148152Z"
    },
    "papermill": {
     "duration": 1.22822,
     "end_time": "2022-06-16T17:06:57.152927",
     "exception": false,
     "start_time": "2022-06-16T17:06:55.924707",
     "status": "completed"
    },
    "tags": []
   },
   "outputs": [],
   "source": [
    "from sklearn.model_selection import train_test_split\n",
    "\n",
    "def data_split(X, y, test_size, val_size):\n",
    "    if config['test_size'] != 0:\n",
    "        X_train, X_test, y_train, y_test = train_test_split(X,y, test_size = test_size, random_state = seed, stratify=y)\n",
    "        X_train, X_val, y_train, y_val = train_test_split(X_train,y_train, test_size = val_size, random_state = seed, stratify=y_train)\n",
    "        \n",
    "        X_train = bert_encode(X_train.astype(str), tokenizer)\n",
    "        X_val = bert_encode(X_val.astype(str), tokenizer)\n",
    "        X_test = bert_encode(X_test.astype(str), tokenizer)\n",
    "\n",
    "        y_train = y_train.values\n",
    "        y_val = y_val.values\n",
    "        y_test = y_test.values\n",
    "        \n",
    "        return X_train, y_train, X_val, y_val, X_test, y_test\n",
    "    else:\n",
    "        X_train, X_val, y_train, y_val = train_test_split(X,y, test_size = val_size, random_state = seed, stratify=y)\n",
    "        X_train = bert_encode(X_train.astype(str), tokenizer)\n",
    "        X_val = bert_encode(X_val.astype(str), tokenizer)\n",
    "\n",
    "        y_train = y_train.values\n",
    "        y_val = y_val.values\n",
    "        \n",
    "        return X_train, y_train, X_val, y_val, None, None"
   ]
  },
  {
   "cell_type": "code",
   "execution_count": 9,
   "id": "e471be8b",
   "metadata": {
    "execution": {
     "iopub.execute_input": "2022-06-16T17:06:57.194236Z",
     "iopub.status.busy": "2022-06-16T17:06:57.193718Z",
     "iopub.status.idle": "2022-06-16T17:08:08.464084Z",
     "shell.execute_reply": "2022-06-16T17:08:08.463009Z"
    },
    "papermill": {
     "duration": 71.289416,
     "end_time": "2022-06-16T17:08:08.467094",
     "exception": false,
     "start_time": "2022-06-16T17:06:57.177678",
     "status": "completed"
    },
    "tags": []
   },
   "outputs": [],
   "source": [
    "X, y = preprocess(df_train, n_samples = 0)\n",
    "X_train, y_train, X_val, y_val, X_test, y_test = data_split(X, y, test_size = config['test_size'], val_size = config['val_size'])"
   ]
  },
  {
   "cell_type": "code",
   "execution_count": 10,
   "id": "0df53c35",
   "metadata": {
    "execution": {
     "iopub.execute_input": "2022-06-16T17:08:08.487453Z",
     "iopub.status.busy": "2022-06-16T17:08:08.487073Z",
     "iopub.status.idle": "2022-06-16T17:08:08.499010Z",
     "shell.execute_reply": "2022-06-16T17:08:08.497718Z"
    },
    "papermill": {
     "duration": 0.024464,
     "end_time": "2022-06-16T17:08:08.501294",
     "exception": false,
     "start_time": "2022-06-16T17:08:08.476830",
     "status": "completed"
    },
    "tags": []
   },
   "outputs": [
    {
     "name": "stdout",
     "output_type": "stream",
     "text": [
      "y_train size: (33088,), label distribution: {0: 0.17577369439071566, 1: 0.5705693907156673, 2: 0.253656914893617}\n",
      "y_val size: (3677,), label distribution: {0: 0.17568670111503942, 1: 0.5705738373674191, 2: 0.25373946151754145}\n"
     ]
    }
   ],
   "source": [
    "unique, counts = np.unique(y_train, return_counts=True)\n",
    "counts = counts / y_train.size\n",
    "# train = dict(zip(unique, counts))\n",
    "print(f\"y_train size: {y_train.shape}, label distribution: {dict(zip(unique, counts))}\")\n",
    "\n",
    "unique, counts = np.unique(y_val, return_counts=True)\n",
    "counts = counts / y_val.size\n",
    "# val = dict(zip(unique, counts))\n",
    "print(f\"y_val size: {y_val.shape}, label distribution: {dict(zip(unique, counts))}\")\n",
    "\n",
    "if config['test_size'] != 0:\n",
    "    unique, counts = np.unique(y_test, return_counts=True)\n",
    "    counts = counts / y_test.size\n",
    "    # test = dict(zip(unique, counts))\n",
    "    print(f\"y_test size: {y_test.shape}, label distribution: {dict(zip(unique, counts))}\")"
   ]
  },
  {
   "cell_type": "code",
   "execution_count": 11,
   "id": "1a917dd1",
   "metadata": {
    "execution": {
     "iopub.execute_input": "2022-06-16T17:08:08.523464Z",
     "iopub.status.busy": "2022-06-16T17:08:08.523058Z",
     "iopub.status.idle": "2022-06-16T17:08:15.429827Z",
     "shell.execute_reply": "2022-06-16T17:08:15.428794Z"
    },
    "papermill": {
     "duration": 6.921591,
     "end_time": "2022-06-16T17:08:15.432606",
     "exception": false,
     "start_time": "2022-06-16T17:08:08.511015",
     "status": "completed"
    },
    "tags": []
   },
   "outputs": [
    {
     "name": "stderr",
     "output_type": "stream",
     "text": [
      "2022-06-16 17:08:08.608859: I tensorflow/stream_executor/cuda/cuda_gpu_executor.cc:937] successful NUMA node read from SysFS had negative value (-1), but there must be at least one NUMA node, so returning NUMA node zero\n",
      "2022-06-16 17:08:08.610467: I tensorflow/stream_executor/cuda/cuda_gpu_executor.cc:937] successful NUMA node read from SysFS had negative value (-1), but there must be at least one NUMA node, so returning NUMA node zero\n",
      "2022-06-16 17:08:08.611589: I tensorflow/stream_executor/cuda/cuda_gpu_executor.cc:937] successful NUMA node read from SysFS had negative value (-1), but there must be at least one NUMA node, so returning NUMA node zero\n",
      "2022-06-16 17:08:08.616900: I tensorflow/core/platform/cpu_feature_guard.cc:142] This TensorFlow binary is optimized with oneAPI Deep Neural Network Library (oneDNN) to use the following CPU instructions in performance-critical operations:  AVX2 FMA\n",
      "To enable them in other operations, rebuild TensorFlow with the appropriate compiler flags.\n",
      "2022-06-16 17:08:08.617248: I tensorflow/stream_executor/cuda/cuda_gpu_executor.cc:937] successful NUMA node read from SysFS had negative value (-1), but there must be at least one NUMA node, so returning NUMA node zero\n",
      "2022-06-16 17:08:08.618490: I tensorflow/stream_executor/cuda/cuda_gpu_executor.cc:937] successful NUMA node read from SysFS had negative value (-1), but there must be at least one NUMA node, so returning NUMA node zero\n",
      "2022-06-16 17:08:08.619719: I tensorflow/stream_executor/cuda/cuda_gpu_executor.cc:937] successful NUMA node read from SysFS had negative value (-1), but there must be at least one NUMA node, so returning NUMA node zero\n",
      "2022-06-16 17:08:14.312415: I tensorflow/stream_executor/cuda/cuda_gpu_executor.cc:937] successful NUMA node read from SysFS had negative value (-1), but there must be at least one NUMA node, so returning NUMA node zero\n",
      "2022-06-16 17:08:14.313628: I tensorflow/stream_executor/cuda/cuda_gpu_executor.cc:937] successful NUMA node read from SysFS had negative value (-1), but there must be at least one NUMA node, so returning NUMA node zero\n",
      "2022-06-16 17:08:14.314631: I tensorflow/stream_executor/cuda/cuda_gpu_executor.cc:937] successful NUMA node read from SysFS had negative value (-1), but there must be at least one NUMA node, so returning NUMA node zero\n",
      "2022-06-16 17:08:14.315523: I tensorflow/core/common_runtime/gpu/gpu_device.cc:1510] Created device /job:localhost/replica:0/task:0/device:GPU:0 with 15047 MB memory:  -> device: 0, name: Tesla P100-PCIE-16GB, pci bus id: 0000:00:04.0, compute capability: 6.0\n"
     ]
    }
   ],
   "source": [
    "AUTO = tf.data.experimental.AUTOTUNE\n",
    "\n",
    "train_dataset = (\n",
    "    tf.data.Dataset\n",
    "    .from_tensor_slices((X_train, y_train))\n",
    "    .repeat()\n",
    "    .shuffle(32768, seed = seed)\n",
    "    .batch(config['batch_size'])\n",
    "    .prefetch(AUTO)\n",
    ")\n",
    "\n",
    "valid_dataset = (\n",
    "    tf.data.Dataset\n",
    "    .from_tensor_slices((X_val, y_val))\n",
    "    .batch(config['batch_size'])\n",
    "    .cache()\n",
    "    .prefetch(AUTO)\n",
    ")"
   ]
  },
  {
   "cell_type": "markdown",
   "id": "d540d7b1",
   "metadata": {
    "papermill": {
     "duration": 0.009442,
     "end_time": "2022-06-16T17:08:15.451850",
     "exception": false,
     "start_time": "2022-06-16T17:08:15.442408",
     "status": "completed"
    },
    "tags": []
   },
   "source": [
    "## Model"
   ]
  },
  {
   "cell_type": "code",
   "execution_count": 12,
   "id": "6a1d0c31",
   "metadata": {
    "execution": {
     "iopub.execute_input": "2022-06-16T17:08:15.472339Z",
     "iopub.status.busy": "2022-06-16T17:08:15.471942Z",
     "iopub.status.idle": "2022-06-16T17:08:15.478875Z",
     "shell.execute_reply": "2022-06-16T17:08:15.477817Z"
    },
    "papermill": {
     "duration": 0.019836,
     "end_time": "2022-06-16T17:08:15.481173",
     "exception": false,
     "start_time": "2022-06-16T17:08:15.461337",
     "status": "completed"
    },
    "tags": []
   },
   "outputs": [],
   "source": [
    "def get_callbacks(patience):\n",
    "    \n",
    "    early_stopping = tf.keras.callbacks.EarlyStopping(monitor='val_loss',\n",
    "                                                      min_delta=0,\n",
    "                                                      patience=patience,\n",
    "                                                      verbose=0,\n",
    "                                                      mode='min',\n",
    "                                                      baseline=None,\n",
    "                                                      restore_best_weights=True)\n",
    "    \n",
    "    model_checkpoint_callback = tf.keras.callbacks.ModelCheckpoint(\n",
    "        filepath=checkpoint_filepath,\n",
    "        save_weights_only=True,\n",
    "        monitor='val_loss',\n",
    "        mode='min',\n",
    "        save_best_only=True)\n",
    "    \n",
    "    return [early_stopping, model_checkpoint_callback]"
   ]
  },
  {
   "cell_type": "code",
   "execution_count": 13,
   "id": "d3e4e5a3",
   "metadata": {
    "execution": {
     "iopub.execute_input": "2022-06-16T17:08:15.501867Z",
     "iopub.status.busy": "2022-06-16T17:08:15.501474Z",
     "iopub.status.idle": "2022-06-16T17:08:33.418799Z",
     "shell.execute_reply": "2022-06-16T17:08:33.417757Z"
    },
    "papermill": {
     "duration": 17.930573,
     "end_time": "2022-06-16T17:08:33.421383",
     "exception": false,
     "start_time": "2022-06-16T17:08:15.490810",
     "status": "completed"
    },
    "tags": []
   },
   "outputs": [
    {
     "name": "stderr",
     "output_type": "stream",
     "text": [
      "Some layers from the model checkpoint at ../input/huggingface-bert-variants/bert-base-cased/bert-base-cased were not used when initializing TFBertModel: ['nsp___cls', 'mlm___cls']\n",
      "- This IS expected if you are initializing TFBertModel from the checkpoint of a model trained on another task or with another architecture (e.g. initializing a BertForSequenceClassification model from a BertForPreTraining model).\n",
      "- This IS NOT expected if you are initializing TFBertModel from the checkpoint of a model that you expect to be exactly identical (initializing a BertForSequenceClassification model from a BertForSequenceClassification model).\n",
      "All the layers of TFBertModel were initialized from the model checkpoint at ../input/huggingface-bert-variants/bert-base-cased/bert-base-cased.\n",
      "If your task is similar to the task the model of the checkpoint was trained on, you can already use TFBertModel for predictions without further training.\n"
     ]
    }
   ],
   "source": [
    "from tensorflow.keras.layers import Dense, Input, Dropout\n",
    "from tensorflow.keras.models import Model\n",
    "\n",
    "input_ids = Input(shape=(config['MAX_LEN'],), dtype=tf.int32, name=\"input_ids\")\n",
    "token_type_ids = Input(shape=(config['MAX_LEN'],), dtype=tf.int32, name=\"token_type_ids\")\n",
    "attention_mask = Input(shape=(config['MAX_LEN'],), dtype=tf.int32, name=\"attention_mask\")\n",
    "\n",
    "# Bert\n",
    "bert_model = (TFBertModel.from_pretrained('../input/huggingface-bert-variants/bert-base-cased/bert-base-cased'))\n",
    "sequence_output = bert_model(input_ids, token_type_ids=token_type_ids, attention_mask=attention_mask)[0]\n",
    "\n",
    "clf_output = sequence_output[:, 0, :]\n",
    "clf_output = Dropout(0.1)(clf_output)\n",
    "# clf_output = Dense(256, activation='softmax')(clf_output)\n",
    "out = Dense(3, activation='softmax')(clf_output)\n",
    "    \n",
    "model = Model(inputs=[input_ids, token_type_ids, attention_mask], outputs=out)"
   ]
  },
  {
   "cell_type": "code",
   "execution_count": 14,
   "id": "be722a25",
   "metadata": {
    "execution": {
     "iopub.execute_input": "2022-06-16T17:08:33.443360Z",
     "iopub.status.busy": "2022-06-16T17:08:33.442707Z",
     "iopub.status.idle": "2022-06-16T17:08:33.450538Z",
     "shell.execute_reply": "2022-06-16T17:08:33.449442Z"
    },
    "papermill": {
     "duration": 0.021032,
     "end_time": "2022-06-16T17:08:33.452732",
     "exception": false,
     "start_time": "2022-06-16T17:08:33.431700",
     "status": "completed"
    },
    "tags": []
   },
   "outputs": [],
   "source": [
    "initial_learning_rate = 2e-5\n",
    "epochs = 56\n",
    "steps_per_epoch = 200\n",
    "needed_steps = int(np.ceil(y_train.shape[0]/config['batch_size']))\n",
    "need_steps_for_epochs = needed_steps / steps_per_epoch\n",
    "# epochs = 28\n",
    "warmup_proportion = 0.1\n",
    "\n",
    "patience = 40\n",
    "num_train_steps = steps_per_epoch * epochs\n",
    "warmup_steps = int(0.1 * num_train_steps)"
   ]
  },
  {
   "cell_type": "code",
   "execution_count": 15,
   "id": "f6943a95",
   "metadata": {
    "execution": {
     "iopub.execute_input": "2022-06-16T17:08:33.474483Z",
     "iopub.status.busy": "2022-06-16T17:08:33.474108Z",
     "iopub.status.idle": "2022-06-16T17:08:33.479877Z",
     "shell.execute_reply": "2022-06-16T17:08:33.478787Z"
    },
    "papermill": {
     "duration": 0.020052,
     "end_time": "2022-06-16T17:08:33.482879",
     "exception": false,
     "start_time": "2022-06-16T17:08:33.462827",
     "status": "completed"
    },
    "tags": []
   },
   "outputs": [
    {
     "name": "stdout",
     "output_type": "stream",
     "text": [
      "Steps needed for all training data: 2758, that's epochs 13.79\n"
     ]
    }
   ],
   "source": [
    "print(f\"Steps needed for all training data: {needed_steps}, that's epochs {need_steps_for_epochs}\")"
   ]
  },
  {
   "cell_type": "markdown",
   "id": "49812d54",
   "metadata": {
    "papermill": {
     "duration": 0.009768,
     "end_time": "2022-06-16T17:08:33.502794",
     "exception": false,
     "start_time": "2022-06-16T17:08:33.493026",
     "status": "completed"
    },
    "tags": []
   },
   "source": [
    "### Optimizer"
   ]
  },
  {
   "cell_type": "code",
   "execution_count": 16,
   "id": "b6a57499",
   "metadata": {
    "execution": {
     "iopub.execute_input": "2022-06-16T17:08:33.525392Z",
     "iopub.status.busy": "2022-06-16T17:08:33.524463Z",
     "iopub.status.idle": "2022-06-16T17:08:33.681286Z",
     "shell.execute_reply": "2022-06-16T17:08:33.680204Z"
    },
    "papermill": {
     "duration": 0.170863,
     "end_time": "2022-06-16T17:08:33.683946",
     "exception": false,
     "start_time": "2022-06-16T17:08:33.513083",
     "status": "completed"
    },
    "tags": []
   },
   "outputs": [],
   "source": [
    "import tensorflow_addons as tfa\n",
    "\n",
    "optimizer = tfa.optimizers.RectifiedAdam(learning_rate=initial_learning_rate,\n",
    "                                         total_steps=num_train_steps,\n",
    "                                         warmup_proportion=warmup_proportion,\n",
    "                                         min_lr=0,\n",
    "                                         weight_decay = 0.01,\n",
    "                                         beta_1 = 0.9,\n",
    "                                         beta_2 = 0.99\n",
    "                                        )"
   ]
  },
  {
   "cell_type": "code",
   "execution_count": 17,
   "id": "7fbd1a3c",
   "metadata": {
    "execution": {
     "iopub.execute_input": "2022-06-16T17:08:33.706168Z",
     "iopub.status.busy": "2022-06-16T17:08:33.705769Z",
     "iopub.status.idle": "2022-06-16T17:08:33.728423Z",
     "shell.execute_reply": "2022-06-16T17:08:33.727344Z"
    },
    "papermill": {
     "duration": 0.036032,
     "end_time": "2022-06-16T17:08:33.730814",
     "exception": false,
     "start_time": "2022-06-16T17:08:33.694782",
     "status": "completed"
    },
    "tags": []
   },
   "outputs": [],
   "source": [
    "model.compile(optimizer, \n",
    "              loss='sparse_categorical_crossentropy', \n",
    "              metrics=['accuracy'])"
   ]
  },
  {
   "cell_type": "code",
   "execution_count": 18,
   "id": "287bbabf",
   "metadata": {
    "execution": {
     "iopub.execute_input": "2022-06-16T17:08:33.754122Z",
     "iopub.status.busy": "2022-06-16T17:08:33.752552Z",
     "iopub.status.idle": "2022-06-16T17:08:33.775472Z",
     "shell.execute_reply": "2022-06-16T17:08:33.774396Z"
    },
    "papermill": {
     "duration": 0.037413,
     "end_time": "2022-06-16T17:08:33.778593",
     "exception": false,
     "start_time": "2022-06-16T17:08:33.741180",
     "status": "completed"
    },
    "tags": []
   },
   "outputs": [
    {
     "name": "stdout",
     "output_type": "stream",
     "text": [
      "Model: \"model\"\n",
      "__________________________________________________________________________________________________\n",
      "Layer (type)                    Output Shape         Param #     Connected to                     \n",
      "==================================================================================================\n",
      "input_ids (InputLayer)          [(None, 512)]        0                                            \n",
      "__________________________________________________________________________________________________\n",
      "attention_mask (InputLayer)     [(None, 512)]        0                                            \n",
      "__________________________________________________________________________________________________\n",
      "token_type_ids (InputLayer)     [(None, 512)]        0                                            \n",
      "__________________________________________________________________________________________________\n",
      "tf_bert_model (TFBertModel)     TFBaseModelOutputWit 108310272   input_ids[0][0]                  \n",
      "                                                                 attention_mask[0][0]             \n",
      "                                                                 token_type_ids[0][0]             \n",
      "__________________________________________________________________________________________________\n",
      "tf.__operators__.getitem (Slici (None, 768)          0           tf_bert_model[0][0]              \n",
      "__________________________________________________________________________________________________\n",
      "dropout_37 (Dropout)            (None, 768)          0           tf.__operators__.getitem[0][0]   \n",
      "__________________________________________________________________________________________________\n",
      "dense (Dense)                   (None, 3)            2307        dropout_37[0][0]                 \n",
      "==================================================================================================\n",
      "Total params: 108,312,579\n",
      "Trainable params: 108,312,579\n",
      "Non-trainable params: 0\n",
      "__________________________________________________________________________________________________\n"
     ]
    }
   ],
   "source": [
    "model.summary()\n",
    "# tf.keras.utils.plot_model(model, show_shapes=True)"
   ]
  },
  {
   "cell_type": "markdown",
   "id": "3cdfd4f2",
   "metadata": {
    "papermill": {
     "duration": 0.009996,
     "end_time": "2022-06-16T17:08:33.799543",
     "exception": false,
     "start_time": "2022-06-16T17:08:33.789547",
     "status": "completed"
    },
    "tags": []
   },
   "source": [
    "### Training"
   ]
  },
  {
   "cell_type": "code",
   "execution_count": 19,
   "id": "79dc3ec1",
   "metadata": {
    "execution": {
     "iopub.execute_input": "2022-06-16T17:08:33.822603Z",
     "iopub.status.busy": "2022-06-16T17:08:33.821588Z",
     "iopub.status.idle": "2022-06-16T18:37:13.393658Z",
     "shell.execute_reply": "2022-06-16T18:37:13.392521Z"
    },
    "papermill": {
     "duration": 5319.785526,
     "end_time": "2022-06-16T18:37:13.595398",
     "exception": false,
     "start_time": "2022-06-16T17:08:33.809872",
     "status": "completed"
    },
    "tags": []
   },
   "outputs": [
    {
     "name": "stdout",
     "output_type": "stream",
     "text": [
      "Epoch 1/56\n"
     ]
    },
    {
     "name": "stderr",
     "output_type": "stream",
     "text": [
      "2022-06-16 17:09:20.855058: I tensorflow/compiler/mlir/mlir_graph_optimization_pass.cc:185] None of the MLIR Optimization Passes are enabled (registered 2)\n"
     ]
    },
    {
     "name": "stdout",
     "output_type": "stream",
     "text": [
      "200/200 [==============================] - 346s 1s/step - loss: 1.0280 - accuracy: 0.5183 - val_loss: 0.8858 - val_accuracy: 0.6111\n",
      "Epoch 2/56\n",
      "200/200 [==============================] - 275s 1s/step - loss: 0.8715 - accuracy: 0.6125 - val_loss: 0.7912 - val_accuracy: 0.6448\n",
      "Epoch 3/56\n",
      "200/200 [==============================] - 275s 1s/step - loss: 0.8169 - accuracy: 0.6317 - val_loss: 0.7789 - val_accuracy: 0.6538\n",
      "Epoch 4/56\n",
      "200/200 [==============================] - 274s 1s/step - loss: 0.7745 - accuracy: 0.6538 - val_loss: 0.7501 - val_accuracy: 0.6649\n",
      "Epoch 5/56\n",
      "200/200 [==============================] - 274s 1s/step - loss: 0.7881 - accuracy: 0.6413 - val_loss: 0.7674 - val_accuracy: 0.6579\n",
      "Epoch 6/56\n",
      "200/200 [==============================] - 274s 1s/step - loss: 0.7683 - accuracy: 0.6475 - val_loss: 0.7497 - val_accuracy: 0.6592\n",
      "Epoch 7/56\n",
      "200/200 [==============================] - 274s 1s/step - loss: 0.7390 - accuracy: 0.6687 - val_loss: 0.7445 - val_accuracy: 0.6696\n",
      "Epoch 8/56\n",
      "200/200 [==============================] - 274s 1s/step - loss: 0.7328 - accuracy: 0.6621 - val_loss: 0.7393 - val_accuracy: 0.6698\n",
      "Epoch 9/56\n",
      "200/200 [==============================] - 274s 1s/step - loss: 0.7335 - accuracy: 0.6696 - val_loss: 0.7261 - val_accuracy: 0.6717\n",
      "Epoch 10/56\n",
      "200/200 [==============================] - 274s 1s/step - loss: 0.7357 - accuracy: 0.6708 - val_loss: 0.7564 - val_accuracy: 0.6674\n",
      "Epoch 11/56\n",
      "200/200 [==============================] - 273s 1s/step - loss: 0.7027 - accuracy: 0.6879 - val_loss: 0.9014 - val_accuracy: 0.6290\n",
      "Epoch 12/56\n",
      "200/200 [==============================] - 273s 1s/step - loss: 0.7067 - accuracy: 0.6946 - val_loss: 0.7192 - val_accuracy: 0.6783\n",
      "Epoch 13/56\n",
      "200/200 [==============================] - 274s 1s/step - loss: 0.7089 - accuracy: 0.6787 - val_loss: 0.7442 - val_accuracy: 0.6742\n",
      "Epoch 14/56\n",
      "200/200 [==============================] - 274s 1s/step - loss: 0.6823 - accuracy: 0.7067 - val_loss: 0.7411 - val_accuracy: 0.6739\n",
      "Epoch 15/56\n",
      "200/200 [==============================] - 274s 1s/step - loss: 0.6702 - accuracy: 0.7008 - val_loss: 0.7859 - val_accuracy: 0.6704\n",
      "Epoch 16/56\n",
      "200/200 [==============================] - 273s 1s/step - loss: 0.6695 - accuracy: 0.7083 - val_loss: 0.7203 - val_accuracy: 0.6756\n",
      "Epoch 17/56\n",
      "200/200 [==============================] - 274s 1s/step - loss: 0.6427 - accuracy: 0.7125 - val_loss: 0.7321 - val_accuracy: 0.6810\n",
      "Epoch 18/56\n",
      "200/200 [==============================] - 274s 1s/step - loss: 0.6478 - accuracy: 0.7146 - val_loss: 0.7360 - val_accuracy: 0.6685\n",
      "Epoch 19/56\n",
      "200/200 [==============================] - 274s 1s/step - loss: 0.6355 - accuracy: 0.7304 - val_loss: 0.7200 - val_accuracy: 0.6878\n"
     ]
    }
   ],
   "source": [
    "history = model.fit(\n",
    "    train_dataset,\n",
    "    steps_per_epoch=steps_per_epoch,\n",
    "    validation_data=valid_dataset,\n",
    "#     batch_size = config['batch_size'],\n",
    "    epochs=epochs,\n",
    "    callbacks=get_callbacks(patience=7)\n",
    ")"
   ]
  },
  {
   "cell_type": "code",
   "execution_count": 20,
   "id": "8c3dccd3",
   "metadata": {
    "execution": {
     "iopub.execute_input": "2022-06-16T18:37:14.200409Z",
     "iopub.status.busy": "2022-06-16T18:37:14.199972Z",
     "iopub.status.idle": "2022-06-16T18:37:14.206375Z",
     "shell.execute_reply": "2022-06-16T18:37:14.205139Z"
    },
    "papermill": {
     "duration": 0.320743,
     "end_time": "2022-06-16T18:37:14.209338",
     "exception": false,
     "start_time": "2022-06-16T18:37:13.888595",
     "status": "completed"
    },
    "tags": []
   },
   "outputs": [],
   "source": [
    "if config['test_size'] != 0:\n",
    "    test_dataset = (\n",
    "        tf.data.Dataset\n",
    "        .from_tensor_slices((X_test, y_test))\n",
    "        .batch(config['batch_size'])\n",
    "        .cache()\n",
    "        .prefetch(AUTO)\n",
    "    )\n",
    "    \n",
    "    model.evaluate(test_dataset)"
   ]
  },
  {
   "cell_type": "code",
   "execution_count": 21,
   "id": "81c10767",
   "metadata": {
    "execution": {
     "iopub.execute_input": "2022-06-16T18:37:14.853568Z",
     "iopub.status.busy": "2022-06-16T18:37:14.853126Z",
     "iopub.status.idle": "2022-06-16T18:37:15.456101Z",
     "shell.execute_reply": "2022-06-16T18:37:15.454980Z"
    },
    "papermill": {
     "duration": 0.900322,
     "end_time": "2022-06-16T18:37:15.458799",
     "exception": false,
     "start_time": "2022-06-16T18:37:14.558477",
     "status": "completed"
    },
    "tags": []
   },
   "outputs": [
    {
     "data": {
      "image/png": "[encoded data removed]",
      "text/plain": [
       "<Figure size 1080x864 with 1 Axes>"
      ]
     },
     "metadata": {
      "needs_background": "light"
     },
     "output_type": "display_data"
    },
    {
     "data": {
      "image/png": "[encoded data removed]",
      "text/plain": [
       "<Figure size 1080x864 with 1 Axes>"
      ]
     },
     "metadata": {
      "needs_background": "light"
     },
     "output_type": "display_data"
    }
   ],
   "source": [
    "figsize = (15, 12)\n",
    "\n",
    "plt.figure(figsize=figsize)\n",
    "plt.plot(history.history['accuracy'])\n",
    "plt.plot(history.history['val_accuracy'])\n",
    "plt.title('model accuracy')\n",
    "plt.ylabel('accuracy')\n",
    "plt.xlabel('epoch')\n",
    "plt.legend(['train', 'test'], loc='upper left')\n",
    "plt.show()\n",
    "# summarize history for loss\n",
    "plt.figure(figsize=figsize)\n",
    "plt.plot(history.history['loss'])\n",
    "plt.plot(history.history['val_loss'])\n",
    "plt.title('model loss')\n",
    "plt.ylabel('loss')\n",
    "plt.xlabel('epoch')\n",
    "plt.legend(['train', 'test'], loc='upper left')\n",
    "plt.show()"
   ]
  },
  {
   "cell_type": "markdown",
   "id": "286dfc2f",
   "metadata": {
    "papermill": {
     "duration": 0.296112,
     "end_time": "2022-06-16T18:37:16.047698",
     "exception": false,
     "start_time": "2022-06-16T18:37:15.751586",
     "status": "completed"
    },
    "tags": []
   },
   "source": [
    "### Load best model"
   ]
  },
  {
   "cell_type": "code",
   "execution_count": 22,
   "id": "3979ed14",
   "metadata": {
    "execution": {
     "iopub.execute_input": "2022-06-16T18:37:16.636187Z",
     "iopub.status.busy": "2022-06-16T18:37:16.635182Z",
     "iopub.status.idle": "2022-06-16T18:37:18.097699Z",
     "shell.execute_reply": "2022-06-16T18:37:18.096629Z"
    },
    "papermill": {
     "duration": 1.758992,
     "end_time": "2022-06-16T18:37:18.099843",
     "exception": false,
     "start_time": "2022-06-16T18:37:16.340851",
     "status": "completed"
    },
    "tags": []
   },
   "outputs": [
    {
     "data": {
      "text/plain": [
       "<tensorflow.python.training.tracking.util.CheckpointLoadStatus at 0x7fda17b2f0d0>"
      ]
     },
     "execution_count": 22,
     "metadata": {},
     "output_type": "execute_result"
    }
   ],
   "source": [
    "model.load_weights(checkpoint_filepath)"
   ]
  },
  {
   "cell_type": "markdown",
   "id": "21f539a9",
   "metadata": {
    "papermill": {
     "duration": 0.290442,
     "end_time": "2022-06-16T18:37:18.686387",
     "exception": false,
     "start_time": "2022-06-16T18:37:18.395945",
     "status": "completed"
    },
    "tags": []
   },
   "source": [
    "## Submission"
   ]
  },
  {
   "cell_type": "code",
   "execution_count": 23,
   "id": "ef870925",
   "metadata": {
    "execution": {
     "iopub.execute_input": "2022-06-16T18:37:19.556416Z",
     "iopub.status.busy": "2022-06-16T18:37:19.555668Z",
     "iopub.status.idle": "2022-06-16T18:37:19.621118Z",
     "shell.execute_reply": "2022-06-16T18:37:19.616939Z"
    },
    "papermill": {
     "duration": 0.583307,
     "end_time": "2022-06-16T18:37:19.624415",
     "exception": false,
     "start_time": "2022-06-16T18:37:19.041108",
     "status": "completed"
    },
    "tags": []
   },
   "outputs": [
    {
     "data": {
      "text/html": [
       "<div>\n",
       "<style scoped>\n",
       "    .dataframe tbody tr th:only-of-type {\n",
       "        vertical-align: middle;\n",
       "    }\n",
       "\n",
       "    .dataframe tbody tr th {\n",
       "        vertical-align: top;\n",
       "    }\n",
       "\n",
       "    .dataframe thead th {\n",
       "        text-align: right;\n",
       "    }\n",
       "</style>\n",
       "<table border=\"1\" class=\"dataframe\">\n",
       "  <thead>\n",
       "    <tr style=\"text-align: right;\">\n",
       "      <th></th>\n",
       "      <th>discourse_id</th>\n",
       "      <th>essay_id</th>\n",
       "      <th>discourse_text</th>\n",
       "      <th>discourse_type</th>\n",
       "    </tr>\n",
       "  </thead>\n",
       "  <tbody>\n",
       "    <tr>\n",
       "      <th>0</th>\n",
       "      <td>a261b6e14276</td>\n",
       "      <td>D72CB1C11673</td>\n",
       "      <td>Making choices in life can be very difficult. ...</td>\n",
       "      <td>Lead</td>\n",
       "    </tr>\n",
       "    <tr>\n",
       "      <th>1</th>\n",
       "      <td>5a88900e7dc1</td>\n",
       "      <td>D72CB1C11673</td>\n",
       "      <td>Seeking multiple opinions can help a person ma...</td>\n",
       "      <td>Position</td>\n",
       "    </tr>\n",
       "    <tr>\n",
       "      <th>2</th>\n",
       "      <td>9790d835736b</td>\n",
       "      <td>D72CB1C11673</td>\n",
       "      <td>it can decrease stress levels</td>\n",
       "      <td>Claim</td>\n",
       "    </tr>\n",
       "    <tr>\n",
       "      <th>3</th>\n",
       "      <td>75ce6d68b67b</td>\n",
       "      <td>D72CB1C11673</td>\n",
       "      <td>a great chance to learn something new</td>\n",
       "      <td>Claim</td>\n",
       "    </tr>\n",
       "    <tr>\n",
       "      <th>4</th>\n",
       "      <td>93578d946723</td>\n",
       "      <td>D72CB1C11673</td>\n",
       "      <td>can be very helpful and beneficial.</td>\n",
       "      <td>Claim</td>\n",
       "    </tr>\n",
       "  </tbody>\n",
       "</table>\n",
       "</div>"
      ],
      "text/plain": [
       "   discourse_id      essay_id  \\\n",
       "0  a261b6e14276  D72CB1C11673   \n",
       "1  5a88900e7dc1  D72CB1C11673   \n",
       "2  9790d835736b  D72CB1C11673   \n",
       "3  75ce6d68b67b  D72CB1C11673   \n",
       "4  93578d946723  D72CB1C11673   \n",
       "\n",
       "                                      discourse_text discourse_type  \n",
       "0  Making choices in life can be very difficult. ...           Lead  \n",
       "1  Seeking multiple opinions can help a person ma...       Position  \n",
       "2                     it can decrease stress levels           Claim  \n",
       "3             a great chance to learn something new           Claim  \n",
       "4               can be very helpful and beneficial.           Claim  "
      ]
     },
     "execution_count": 23,
     "metadata": {},
     "output_type": "execute_result"
    }
   ],
   "source": [
    "df_test = pd.read_csv('../input/feedback-prize-effectiveness/test.csv')\n",
    "df_test.head()"
   ]
  },
  {
   "cell_type": "code",
   "execution_count": 24,
   "id": "16708331",
   "metadata": {
    "execution": {
     "iopub.execute_input": "2022-06-16T18:37:20.254908Z",
     "iopub.status.busy": "2022-06-16T18:37:20.254495Z",
     "iopub.status.idle": "2022-06-16T18:37:20.276615Z",
     "shell.execute_reply": "2022-06-16T18:37:20.275632Z"
    },
    "papermill": {
     "duration": 0.319203,
     "end_time": "2022-06-16T18:37:20.278766",
     "exception": false,
     "start_time": "2022-06-16T18:37:19.959563",
     "status": "completed"
    },
    "tags": []
   },
   "outputs": [
    {
     "data": {
      "text/html": [
       "<div>\n",
       "<style scoped>\n",
       "    .dataframe tbody tr th:only-of-type {\n",
       "        vertical-align: middle;\n",
       "    }\n",
       "\n",
       "    .dataframe tbody tr th {\n",
       "        vertical-align: top;\n",
       "    }\n",
       "\n",
       "    .dataframe thead th {\n",
       "        text-align: right;\n",
       "    }\n",
       "</style>\n",
       "<table border=\"1\" class=\"dataframe\">\n",
       "  <thead>\n",
       "    <tr style=\"text-align: right;\">\n",
       "      <th></th>\n",
       "      <th>discourse_id</th>\n",
       "      <th>Ineffective</th>\n",
       "      <th>Adequate</th>\n",
       "      <th>Effective</th>\n",
       "    </tr>\n",
       "  </thead>\n",
       "  <tbody>\n",
       "    <tr>\n",
       "      <th>0</th>\n",
       "      <td>a261b6e14276</td>\n",
       "      <td>0.20</td>\n",
       "      <td>0.60</td>\n",
       "      <td>0.40</td>\n",
       "    </tr>\n",
       "    <tr>\n",
       "      <th>1</th>\n",
       "      <td>5a88900e7dc1</td>\n",
       "      <td>3.00</td>\n",
       "      <td>6.00</td>\n",
       "      <td>1.00</td>\n",
       "    </tr>\n",
       "    <tr>\n",
       "      <th>2</th>\n",
       "      <td>9790d835736b</td>\n",
       "      <td>1.00</td>\n",
       "      <td>2.00</td>\n",
       "      <td>3.00</td>\n",
       "    </tr>\n",
       "    <tr>\n",
       "      <th>3</th>\n",
       "      <td>75ce6d68b67b</td>\n",
       "      <td>0.33</td>\n",
       "      <td>0.34</td>\n",
       "      <td>0.33</td>\n",
       "    </tr>\n",
       "    <tr>\n",
       "      <th>4</th>\n",
       "      <td>93578d946723</td>\n",
       "      <td>0.01</td>\n",
       "      <td>0.24</td>\n",
       "      <td>0.47</td>\n",
       "    </tr>\n",
       "  </tbody>\n",
       "</table>\n",
       "</div>"
      ],
      "text/plain": [
       "   discourse_id  Ineffective  Adequate  Effective\n",
       "0  a261b6e14276         0.20      0.60       0.40\n",
       "1  5a88900e7dc1         3.00      6.00       1.00\n",
       "2  9790d835736b         1.00      2.00       3.00\n",
       "3  75ce6d68b67b         0.33      0.34       0.33\n",
       "4  93578d946723         0.01      0.24       0.47"
      ]
     },
     "execution_count": 24,
     "metadata": {},
     "output_type": "execute_result"
    }
   ],
   "source": [
    "pd.read_csv('../input/feedback-prize-effectiveness/sample_submission.csv').head()"
   ]
  },
  {
   "cell_type": "code",
   "execution_count": 25,
   "id": "59a0f9e2",
   "metadata": {
    "execution": {
     "iopub.execute_input": "2022-06-16T18:37:20.862891Z",
     "iopub.status.busy": "2022-06-16T18:37:20.862482Z",
     "iopub.status.idle": "2022-06-16T18:37:20.888562Z",
     "shell.execute_reply": "2022-06-16T18:37:20.887559Z"
    },
    "papermill": {
     "duration": 0.321629,
     "end_time": "2022-06-16T18:37:20.891005",
     "exception": false,
     "start_time": "2022-06-16T18:37:20.569376",
     "status": "completed"
    },
    "tags": []
   },
   "outputs": [],
   "source": [
    "df_test['input'] = cls + df_test.discourse_type + sep + df_test.discourse_text\n",
    "X_pred = bert_encode(df_test.input.astype(str), tokenizer)"
   ]
  },
  {
   "cell_type": "code",
   "execution_count": 26,
   "id": "924965b4",
   "metadata": {
    "execution": {
     "iopub.execute_input": "2022-06-16T18:37:21.482471Z",
     "iopub.status.busy": "2022-06-16T18:37:21.482061Z",
     "iopub.status.idle": "2022-06-16T18:37:25.189932Z",
     "shell.execute_reply": "2022-06-16T18:37:25.188650Z"
    },
    "papermill": {
     "duration": 4.007152,
     "end_time": "2022-06-16T18:37:25.192372",
     "exception": false,
     "start_time": "2022-06-16T18:37:21.185220",
     "status": "completed"
    },
    "tags": []
   },
   "outputs": [
    {
     "name": "stdout",
     "output_type": "stream",
     "text": [
      "1/1 [==============================] - 3s 3s/step\n"
     ]
    },
    {
     "data": {
      "text/plain": [
       "array([[0.00654476, 0.22641009, 0.76704514],\n",
       "       [0.02099188, 0.5043525 , 0.47465563],\n",
       "       [0.01891932, 0.5221147 , 0.45896602],\n",
       "       [0.12337936, 0.6091586 , 0.26746204],\n",
       "       [0.02019818, 0.39176166, 0.5880402 ],\n",
       "       [0.00689349, 0.12945876, 0.86364776],\n",
       "       [0.00474171, 0.10602302, 0.88923526],\n",
       "       [0.01272075, 0.34331217, 0.64396703],\n",
       "       [0.03188467, 0.3101491 , 0.65796614],\n",
       "       [0.01656292, 0.5475502 , 0.43588686]], dtype=float32)"
      ]
     },
     "execution_count": 26,
     "metadata": {},
     "output_type": "execute_result"
    }
   ],
   "source": [
    "y_pred = model.predict(X_pred, verbose=1)\n",
    "y_pred"
   ]
  },
  {
   "cell_type": "code",
   "execution_count": 27,
   "id": "7e1ce468",
   "metadata": {
    "execution": {
     "iopub.execute_input": "2022-06-16T18:37:25.778826Z",
     "iopub.status.busy": "2022-06-16T18:37:25.778401Z",
     "iopub.status.idle": "2022-06-16T18:37:25.795702Z",
     "shell.execute_reply": "2022-06-16T18:37:25.794577Z"
    },
    "papermill": {
     "duration": 0.311877,
     "end_time": "2022-06-16T18:37:25.797971",
     "exception": false,
     "start_time": "2022-06-16T18:37:25.486094",
     "status": "completed"
    },
    "tags": []
   },
   "outputs": [],
   "source": [
    "df_test['Ineffective'] = y_pred[:,0]\n",
    "df_test['Adequate'] = y_pred[:,1]\n",
    "df_test['Effective'] = y_pred[:,2]\n",
    "df_test.drop(['essay_id','discourse_text','discourse_type', 'input'], axis=1, inplace=True)"
   ]
  },
  {
   "cell_type": "code",
   "execution_count": 28,
   "id": "5bb49676",
   "metadata": {
    "execution": {
     "iopub.execute_input": "2022-06-16T18:37:26.444555Z",
     "iopub.status.busy": "2022-06-16T18:37:26.444065Z",
     "iopub.status.idle": "2022-06-16T18:37:26.457132Z",
     "shell.execute_reply": "2022-06-16T18:37:26.456097Z"
    },
    "papermill": {
     "duration": 0.315062,
     "end_time": "2022-06-16T18:37:26.459427",
     "exception": false,
     "start_time": "2022-06-16T18:37:26.144365",
     "status": "completed"
    },
    "tags": []
   },
   "outputs": [
    {
     "data": {
      "text/html": [
       "<div>\n",
       "<style scoped>\n",
       "    .dataframe tbody tr th:only-of-type {\n",
       "        vertical-align: middle;\n",
       "    }\n",
       "\n",
       "    .dataframe tbody tr th {\n",
       "        vertical-align: top;\n",
       "    }\n",
       "\n",
       "    .dataframe thead th {\n",
       "        text-align: right;\n",
       "    }\n",
       "</style>\n",
       "<table border=\"1\" class=\"dataframe\">\n",
       "  <thead>\n",
       "    <tr style=\"text-align: right;\">\n",
       "      <th></th>\n",
       "      <th>discourse_id</th>\n",
       "      <th>Ineffective</th>\n",
       "      <th>Adequate</th>\n",
       "      <th>Effective</th>\n",
       "    </tr>\n",
       "  </thead>\n",
       "  <tbody>\n",
       "    <tr>\n",
       "      <th>0</th>\n",
       "      <td>a261b6e14276</td>\n",
       "      <td>0.006545</td>\n",
       "      <td>0.226410</td>\n",
       "      <td>0.767045</td>\n",
       "    </tr>\n",
       "    <tr>\n",
       "      <th>1</th>\n",
       "      <td>5a88900e7dc1</td>\n",
       "      <td>0.020992</td>\n",
       "      <td>0.504353</td>\n",
       "      <td>0.474656</td>\n",
       "    </tr>\n",
       "    <tr>\n",
       "      <th>2</th>\n",
       "      <td>9790d835736b</td>\n",
       "      <td>0.018919</td>\n",
       "      <td>0.522115</td>\n",
       "      <td>0.458966</td>\n",
       "    </tr>\n",
       "    <tr>\n",
       "      <th>3</th>\n",
       "      <td>75ce6d68b67b</td>\n",
       "      <td>0.123379</td>\n",
       "      <td>0.609159</td>\n",
       "      <td>0.267462</td>\n",
       "    </tr>\n",
       "    <tr>\n",
       "      <th>4</th>\n",
       "      <td>93578d946723</td>\n",
       "      <td>0.020198</td>\n",
       "      <td>0.391762</td>\n",
       "      <td>0.588040</td>\n",
       "    </tr>\n",
       "  </tbody>\n",
       "</table>\n",
       "</div>"
      ],
      "text/plain": [
       "   discourse_id  Ineffective  Adequate  Effective\n",
       "0  a261b6e14276     0.006545  0.226410   0.767045\n",
       "1  5a88900e7dc1     0.020992  0.504353   0.474656\n",
       "2  9790d835736b     0.018919  0.522115   0.458966\n",
       "3  75ce6d68b67b     0.123379  0.609159   0.267462\n",
       "4  93578d946723     0.020198  0.391762   0.588040"
      ]
     },
     "execution_count": 28,
     "metadata": {},
     "output_type": "execute_result"
    }
   ],
   "source": [
    "df_test.head()"
   ]
  },
  {
   "cell_type": "code",
   "execution_count": 29,
   "id": "670d2464",
   "metadata": {
    "execution": {
     "iopub.execute_input": "2022-06-16T18:37:27.050018Z",
     "iopub.status.busy": "2022-06-16T18:37:27.049102Z",
     "iopub.status.idle": "2022-06-16T18:37:27.058700Z",
     "shell.execute_reply": "2022-06-16T18:37:27.057717Z"
    },
    "papermill": {
     "duration": 0.306103,
     "end_time": "2022-06-16T18:37:27.060984",
     "exception": false,
     "start_time": "2022-06-16T18:37:26.754881",
     "status": "completed"
    },
    "tags": []
   },
   "outputs": [],
   "source": [
    "df_test.to_csv(\"submission.csv\", index=False)"
   ]
  },
  {
   "cell_type": "code",
   "execution_count": null,
   "id": "947d1b72",
   "metadata": {
    "papermill": {
     "duration": 0.296992,
     "end_time": "2022-06-16T18:37:27.652914",
     "exception": false,
     "start_time": "2022-06-16T18:37:27.355922",
     "status": "completed"
    },
    "tags": []
   },
   "outputs": [],
   "source": []
  }
 ],
 "metadata": {
  "kernelspec": {
   "display_name": "Python 3",
   "language": "python",
   "name": "python3"
  },
  "language_info": {
   "codemirror_mode": {
    "name": "ipython",
    "version": 3
   },
   "file_extension": ".py",
   "mimetype": "text/x-python",
   "name": "python",
   "nbconvert_exporter": "python",
   "pygments_lexer": "ipython3",
   "version": "3.7.12"
  },
  "papermill": {
   "default_parameters": {},
   "duration": 5455.693057,
   "end_time": "2022-06-16T18:37:31.217648",
   "environment_variables": {},
   "exception": null,
   "input_path": "__notebook__.ipynb",
   "output_path": "__notebook__.ipynb",
   "parameters": {},
   "start_time": "2022-06-16T17:06:35.524591",
   "version": "2.3.4"
  }
 },
 "nbformat": 4,
 "nbformat_minor": 5
}
