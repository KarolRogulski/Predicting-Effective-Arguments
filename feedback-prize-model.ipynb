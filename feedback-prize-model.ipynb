{
 "cells": [
  {
   "cell_type": "markdown",
   "id": "25b0088e",
   "metadata": {
    "papermill": {
     "duration": 0.01385,
     "end_time": "2022-06-08T11:25:18.992139",
     "exception": false,
     "start_time": "2022-06-08T11:25:18.978289",
     "status": "completed"
    },
    "tags": []
   },
   "source": [
    "# Model training"
   ]
  },
  {
   "cell_type": "code",
   "execution_count": 1,
   "id": "435bdd6a",
   "metadata": {
    "execution": {
     "iopub.execute_input": "2022-06-08T11:25:19.011496Z",
     "iopub.status.busy": "2022-06-08T11:25:19.010796Z",
     "iopub.status.idle": "2022-06-08T11:25:19.027937Z",
     "shell.execute_reply": "2022-06-08T11:25:19.026952Z"
    },
    "papermill": {
     "duration": 0.029113,
     "end_time": "2022-06-08T11:25:19.030291",
     "exception": false,
     "start_time": "2022-06-08T11:25:19.001178",
     "status": "completed"
    },
    "tags": []
   },
   "outputs": [],
   "source": [
    "import pandas as pd\n",
    "import numpy as np\n",
    "import matplotlib.pyplot as plt\n",
    "%matplotlib inline"
   ]
  },
  {
   "cell_type": "code",
   "execution_count": 2,
   "id": "f066985f",
   "metadata": {
    "execution": {
     "iopub.execute_input": "2022-06-08T11:25:19.047721Z",
     "iopub.status.busy": "2022-06-08T11:25:19.047403Z",
     "iopub.status.idle": "2022-06-08T11:25:19.392822Z",
     "shell.execute_reply": "2022-06-08T11:25:19.391771Z"
    },
    "papermill": {
     "duration": 0.357012,
     "end_time": "2022-06-08T11:25:19.395220",
     "exception": false,
     "start_time": "2022-06-08T11:25:19.038208",
     "status": "completed"
    },
    "tags": []
   },
   "outputs": [],
   "source": [
    "df_train = pd.read_csv('../input/feedback-prize-effectiveness/train.csv')"
   ]
  },
  {
   "cell_type": "markdown",
   "id": "9af33dd1",
   "metadata": {
    "papermill": {
     "duration": 0.00736,
     "end_time": "2022-06-08T11:25:19.410623",
     "exception": false,
     "start_time": "2022-06-08T11:25:19.403263",
     "status": "completed"
    },
    "tags": []
   },
   "source": [
    "## Training"
   ]
  },
  {
   "cell_type": "code",
   "execution_count": 3,
   "id": "9c5d5816",
   "metadata": {
    "execution": {
     "iopub.execute_input": "2022-06-08T11:25:19.428494Z",
     "iopub.status.busy": "2022-06-08T11:25:19.427597Z",
     "iopub.status.idle": "2022-06-08T11:25:19.433226Z",
     "shell.execute_reply": "2022-06-08T11:25:19.432154Z"
    },
    "papermill": {
     "duration": 0.016936,
     "end_time": "2022-06-08T11:25:19.435498",
     "exception": false,
     "start_time": "2022-06-08T11:25:19.418562",
     "status": "completed"
    },
    "tags": []
   },
   "outputs": [],
   "source": [
    "seed = 33\n",
    "batch_size = 16\n",
    "MAX_LEN = 256"
   ]
  },
  {
   "cell_type": "markdown",
   "id": "9e3c156a",
   "metadata": {
    "papermill": {
     "duration": 0.007763,
     "end_time": "2022-06-08T11:25:19.451859",
     "exception": false,
     "start_time": "2022-06-08T11:25:19.444096",
     "status": "completed"
    },
    "tags": []
   },
   "source": [
    "### Sets"
   ]
  },
  {
   "cell_type": "code",
   "execution_count": 4,
   "id": "69d9b2f5",
   "metadata": {
    "execution": {
     "iopub.execute_input": "2022-06-08T11:25:19.469086Z",
     "iopub.status.busy": "2022-06-08T11:25:19.468588Z",
     "iopub.status.idle": "2022-06-08T11:25:20.543380Z",
     "shell.execute_reply": "2022-06-08T11:25:20.542358Z"
    },
    "papermill": {
     "duration": 1.086511,
     "end_time": "2022-06-08T11:25:20.546228",
     "exception": false,
     "start_time": "2022-06-08T11:25:19.459717",
     "status": "completed"
    },
    "tags": []
   },
   "outputs": [],
   "source": [
    "from sklearn.model_selection import train_test_split\n",
    "\n",
    "def data_split(df_train, n_samples, test_size, val_size):\n",
    "    if n_samples != 0:\n",
    "        df_train = df_train.sample(n=n_samples, random_state = seed)\n",
    "    \n",
    "    \n",
    "    # Label encoding\n",
    "    new_label = {\"discourse_effectiveness\": {\"Ineffective\": 0, \"Adequate\": 1, \"Effective\": 2}}\n",
    "    df_train = df_train.replace(new_label)\n",
    "    df_train = df_train.rename(columns = {\"discourse_effectiveness\": \"label\"})\n",
    "    # One-hot encode and set columns in order\n",
    "#     y = pd.get_dummies(df_train['discourse_effectiveness'])\n",
    "#     y = y[['Ineffective','Adequate','Effective']]\n",
    "\n",
    "    X = df_train['input']\n",
    "    y = df_train['label']\n",
    "    X_train, X_test, y_train, y_test = train_test_split(X,y, test_size = test_size, random_state = seed)\n",
    "    \n",
    "    X_train, X_val, y_train, y_val = train_test_split(X_train,y_train, test_size = val_size, random_state = seed)\n",
    "    \n",
    "    return X_train, y_train, X_val, y_val, X_test, y_test"
   ]
  },
  {
   "cell_type": "code",
   "execution_count": 5,
   "id": "996d3956",
   "metadata": {
    "execution": {
     "iopub.execute_input": "2022-06-08T11:25:20.564183Z",
     "iopub.status.busy": "2022-06-08T11:25:20.563798Z",
     "iopub.status.idle": "2022-06-08T11:25:29.173988Z",
     "shell.execute_reply": "2022-06-08T11:25:29.172651Z"
    },
    "papermill": {
     "duration": 8.622013,
     "end_time": "2022-06-08T11:25:29.176700",
     "exception": false,
     "start_time": "2022-06-08T11:25:20.554687",
     "status": "completed"
    },
    "tags": []
   },
   "outputs": [],
   "source": [
    "import tensorflow as tf\n",
    "from transformers import TFBertModel\n",
    "import transformers"
   ]
  },
  {
   "cell_type": "code",
   "execution_count": 6,
   "id": "14de2b07",
   "metadata": {
    "execution": {
     "iopub.execute_input": "2022-06-08T11:25:29.193337Z",
     "iopub.status.busy": "2022-06-08T11:25:29.192780Z",
     "iopub.status.idle": "2022-06-08T11:25:29.199828Z",
     "shell.execute_reply": "2022-06-08T11:25:29.198745Z"
    },
    "papermill": {
     "duration": 0.017451,
     "end_time": "2022-06-08T11:25:29.201965",
     "exception": false,
     "start_time": "2022-06-08T11:25:29.184514",
     "status": "completed"
    },
    "tags": []
   },
   "outputs": [],
   "source": [
    "def bert_encode(texts, tokenizer, max_len=MAX_LEN):\n",
    "    input_ids = []\n",
    "    token_type_ids = []\n",
    "    attention_mask = []\n",
    "    \n",
    "    for text in texts:\n",
    "        token = tokenizer(text, max_length=max_len, truncation=True, padding='max_length',\n",
    "                         add_special_tokens=True)\n",
    "        input_ids.append(token['input_ids'])\n",
    "        token_type_ids.append(token['token_type_ids'])\n",
    "        attention_mask.append(token['attention_mask'])\n",
    "    \n",
    "    return np.array(input_ids), np.array(token_type_ids), np.array(attention_mask)"
   ]
  },
  {
   "cell_type": "code",
   "execution_count": 7,
   "id": "7d331417",
   "metadata": {
    "execution": {
     "iopub.execute_input": "2022-06-08T11:25:29.217834Z",
     "iopub.status.busy": "2022-06-08T11:25:29.217516Z",
     "iopub.status.idle": "2022-06-08T11:25:29.320957Z",
     "shell.execute_reply": "2022-06-08T11:25:29.319687Z"
    },
    "papermill": {
     "duration": 0.115089,
     "end_time": "2022-06-08T11:25:29.324541",
     "exception": false,
     "start_time": "2022-06-08T11:25:29.209452",
     "status": "completed"
    },
    "tags": []
   },
   "outputs": [
    {
     "data": {
      "text/plain": [
       "('./tokenizer_config.json',\n",
       " './special_tokens_map.json',\n",
       " './vocab.txt',\n",
       " './added_tokens.json')"
      ]
     },
     "execution_count": 7,
     "metadata": {},
     "output_type": "execute_result"
    }
   ],
   "source": [
    "# First load the real tokenizer\n",
    "tokenizer = transformers.BertTokenizer.from_pretrained('../input/huggingface-bert-variants/bert-base-cased/bert-base-cased')\n",
    "# Save the loaded tokenizer locally\n",
    "tokenizer.save_pretrained('.')"
   ]
  },
  {
   "cell_type": "markdown",
   "id": "8b65e8a8",
   "metadata": {
    "papermill": {
     "duration": 0.007507,
     "end_time": "2022-06-08T11:25:29.339803",
     "exception": false,
     "start_time": "2022-06-08T11:25:29.332296",
     "status": "completed"
    },
    "tags": []
   },
   "source": [
    "## Data preparation"
   ]
  },
  {
   "cell_type": "code",
   "execution_count": 8,
   "id": "8707cd2b",
   "metadata": {
    "execution": {
     "iopub.execute_input": "2022-06-08T11:25:29.356881Z",
     "iopub.status.busy": "2022-06-08T11:25:29.356545Z",
     "iopub.status.idle": "2022-06-08T11:25:29.362438Z",
     "shell.execute_reply": "2022-06-08T11:25:29.361441Z"
    },
    "papermill": {
     "duration": 0.017415,
     "end_time": "2022-06-08T11:25:29.364714",
     "exception": false,
     "start_time": "2022-06-08T11:25:29.347299",
     "status": "completed"
    },
    "tags": []
   },
   "outputs": [
    {
     "data": {
      "text/plain": [
       "'[SEP]'"
      ]
     },
     "execution_count": 8,
     "metadata": {},
     "output_type": "execute_result"
    }
   ],
   "source": [
    "sep = tokenizer.sep_token\n",
    "sep"
   ]
  },
  {
   "cell_type": "code",
   "execution_count": 9,
   "id": "f6d93c41",
   "metadata": {
    "execution": {
     "iopub.execute_input": "2022-06-08T11:25:29.382913Z",
     "iopub.status.busy": "2022-06-08T11:25:29.381973Z",
     "iopub.status.idle": "2022-06-08T11:25:29.408468Z",
     "shell.execute_reply": "2022-06-08T11:25:29.407499Z"
    },
    "papermill": {
     "duration": 0.038508,
     "end_time": "2022-06-08T11:25:29.411062",
     "exception": false,
     "start_time": "2022-06-08T11:25:29.372554",
     "status": "completed"
    },
    "tags": []
   },
   "outputs": [],
   "source": [
    "# df['inputs'] = df.discourse_type + sep +df.discourse_text?????\n",
    "df_train['input'] = sep +df_train.discourse_text"
   ]
  },
  {
   "cell_type": "code",
   "execution_count": 10,
   "id": "65b8ae9e",
   "metadata": {
    "execution": {
     "iopub.execute_input": "2022-06-08T11:25:29.428603Z",
     "iopub.status.busy": "2022-06-08T11:25:29.428299Z",
     "iopub.status.idle": "2022-06-08T11:25:29.492666Z",
     "shell.execute_reply": "2022-06-08T11:25:29.490035Z"
    },
    "papermill": {
     "duration": 0.077931,
     "end_time": "2022-06-08T11:25:29.497084",
     "exception": false,
     "start_time": "2022-06-08T11:25:29.419153",
     "status": "completed"
    },
    "tags": []
   },
   "outputs": [],
   "source": [
    "n_samples = 0 # 0 is for whole dataset\n",
    "test_size = 0.10\n",
    "val_size = 0.10\n",
    "\n",
    "X_train, y_train, X_val, y_val, X_test, y_test = data_split(df_train, n_samples=n_samples, test_size = test_size, val_size = val_size)"
   ]
  },
  {
   "cell_type": "code",
   "execution_count": 11,
   "id": "68a60840",
   "metadata": {
    "execution": {
     "iopub.execute_input": "2022-06-08T11:25:29.533657Z",
     "iopub.status.busy": "2022-06-08T11:25:29.532098Z",
     "iopub.status.idle": "2022-06-08T11:26:29.823366Z",
     "shell.execute_reply": "2022-06-08T11:26:29.822083Z"
    },
    "papermill": {
     "duration": 60.314655,
     "end_time": "2022-06-08T11:26:29.825847",
     "exception": false,
     "start_time": "2022-06-08T11:25:29.511192",
     "status": "completed"
    },
    "tags": []
   },
   "outputs": [],
   "source": [
    "X_train = bert_encode(X_train.astype(str), tokenizer)\n",
    "X_val = bert_encode(X_val.astype(str), tokenizer)\n",
    "X_test = bert_encode(X_test.astype(str), tokenizer)\n",
    "\n",
    "y_train = y_train.values\n",
    "y_val = y_val.values\n",
    "y_test = y_test.values"
   ]
  },
  {
   "cell_type": "code",
   "execution_count": 12,
   "id": "5841e72f",
   "metadata": {
    "execution": {
     "iopub.execute_input": "2022-06-08T11:26:29.843523Z",
     "iopub.status.busy": "2022-06-08T11:26:29.843128Z",
     "iopub.status.idle": "2022-06-08T11:26:29.849194Z",
     "shell.execute_reply": "2022-06-08T11:26:29.848199Z"
    },
    "papermill": {
     "duration": 0.018263,
     "end_time": "2022-06-08T11:26:29.852577",
     "exception": false,
     "start_time": "2022-06-08T11:26:29.834314",
     "status": "completed"
    },
    "tags": []
   },
   "outputs": [
    {
     "name": "stdout",
     "output_type": "stream",
     "text": [
      "y_train: (29779,), y_val: (3309,), y_test: (3677,)\n"
     ]
    }
   ],
   "source": [
    "print(f\"y_train: {y_train.shape}, y_val: {y_val.shape}, y_test: {y_test.shape}\")"
   ]
  },
  {
   "cell_type": "code",
   "execution_count": 13,
   "id": "53ddbb0f",
   "metadata": {
    "execution": {
     "iopub.execute_input": "2022-06-08T11:26:29.872828Z",
     "iopub.status.busy": "2022-06-08T11:26:29.871830Z",
     "iopub.status.idle": "2022-06-08T11:26:36.130051Z",
     "shell.execute_reply": "2022-06-08T11:26:36.128891Z"
    },
    "papermill": {
     "duration": 6.272954,
     "end_time": "2022-06-08T11:26:36.134773",
     "exception": false,
     "start_time": "2022-06-08T11:26:29.861819",
     "status": "completed"
    },
    "tags": []
   },
   "outputs": [
    {
     "name": "stderr",
     "output_type": "stream",
     "text": [
      "2022-06-08 11:26:29.954252: I tensorflow/stream_executor/cuda/cuda_gpu_executor.cc:937] successful NUMA node read from SysFS had negative value (-1), but there must be at least one NUMA node, so returning NUMA node zero\n",
      "2022-06-08 11:26:29.955877: I tensorflow/stream_executor/cuda/cuda_gpu_executor.cc:937] successful NUMA node read from SysFS had negative value (-1), but there must be at least one NUMA node, so returning NUMA node zero\n",
      "2022-06-08 11:26:29.956840: I tensorflow/stream_executor/cuda/cuda_gpu_executor.cc:937] successful NUMA node read from SysFS had negative value (-1), but there must be at least one NUMA node, so returning NUMA node zero\n",
      "2022-06-08 11:26:29.959288: I tensorflow/core/platform/cpu_feature_guard.cc:142] This TensorFlow binary is optimized with oneAPI Deep Neural Network Library (oneDNN) to use the following CPU instructions in performance-critical operations:  AVX2 FMA\n",
      "To enable them in other operations, rebuild TensorFlow with the appropriate compiler flags.\n",
      "2022-06-08 11:26:29.959727: I tensorflow/stream_executor/cuda/cuda_gpu_executor.cc:937] successful NUMA node read from SysFS had negative value (-1), but there must be at least one NUMA node, so returning NUMA node zero\n",
      "2022-06-08 11:26:29.960729: I tensorflow/stream_executor/cuda/cuda_gpu_executor.cc:937] successful NUMA node read from SysFS had negative value (-1), but there must be at least one NUMA node, so returning NUMA node zero\n",
      "2022-06-08 11:26:29.961721: I tensorflow/stream_executor/cuda/cuda_gpu_executor.cc:937] successful NUMA node read from SysFS had negative value (-1), but there must be at least one NUMA node, so returning NUMA node zero\n",
      "2022-06-08 11:26:35.245277: I tensorflow/stream_executor/cuda/cuda_gpu_executor.cc:937] successful NUMA node read from SysFS had negative value (-1), but there must be at least one NUMA node, so returning NUMA node zero\n",
      "2022-06-08 11:26:35.246274: I tensorflow/stream_executor/cuda/cuda_gpu_executor.cc:937] successful NUMA node read from SysFS had negative value (-1), but there must be at least one NUMA node, so returning NUMA node zero\n",
      "2022-06-08 11:26:35.247211: I tensorflow/stream_executor/cuda/cuda_gpu_executor.cc:937] successful NUMA node read from SysFS had negative value (-1), but there must be at least one NUMA node, so returning NUMA node zero\n",
      "2022-06-08 11:26:35.247983: I tensorflow/core/common_runtime/gpu/gpu_device.cc:1510] Created device /job:localhost/replica:0/task:0/device:GPU:0 with 15047 MB memory:  -> device: 0, name: Tesla P100-PCIE-16GB, pci bus id: 0000:00:04.0, compute capability: 6.0\n"
     ]
    }
   ],
   "source": [
    "AUTO = tf.data.experimental.AUTOTUNE\n",
    "\n",
    "train_dataset = (\n",
    "    tf.data.Dataset\n",
    "    .from_tensor_slices((X_train, y_train))\n",
    "    .repeat()\n",
    "    .shuffle(32768)\n",
    "    .batch(batch_size)\n",
    "    .prefetch(AUTO)\n",
    ")\n",
    "\n",
    "valid_dataset = (\n",
    "    tf.data.Dataset\n",
    "    .from_tensor_slices((X_val, y_val))\n",
    "    .batch(batch_size)\n",
    "    .cache()\n",
    "    .prefetch(AUTO)\n",
    ")\n",
    "test_dataset = (\n",
    "    tf.data.Dataset\n",
    "    .from_tensor_slices((X_test, y_test))\n",
    "    .batch(batch_size)\n",
    "    .cache()\n",
    "    .prefetch(AUTO)\n",
    ")"
   ]
  },
  {
   "cell_type": "markdown",
   "id": "f1080c86",
   "metadata": {
    "papermill": {
     "duration": 0.007841,
     "end_time": "2022-06-08T11:26:36.157280",
     "exception": false,
     "start_time": "2022-06-08T11:26:36.149439",
     "status": "completed"
    },
    "tags": []
   },
   "source": [
    "## Model"
   ]
  },
  {
   "cell_type": "code",
   "execution_count": 14,
   "id": "a5727c82",
   "metadata": {
    "execution": {
     "iopub.execute_input": "2022-06-08T11:26:36.175281Z",
     "iopub.status.busy": "2022-06-08T11:26:36.174883Z",
     "iopub.status.idle": "2022-06-08T11:26:50.580870Z",
     "shell.execute_reply": "2022-06-08T11:26:50.578277Z"
    },
    "papermill": {
     "duration": 14.417733,
     "end_time": "2022-06-08T11:26:50.583318",
     "exception": false,
     "start_time": "2022-06-08T11:26:36.165585",
     "status": "completed"
    },
    "tags": []
   },
   "outputs": [
    {
     "name": "stderr",
     "output_type": "stream",
     "text": [
      "Some layers from the model checkpoint at ../input/huggingface-bert-variants/bert-base-cased/bert-base-cased were not used when initializing TFBertModel: ['mlm___cls', 'nsp___cls']\n",
      "- This IS expected if you are initializing TFBertModel from the checkpoint of a model trained on another task or with another architecture (e.g. initializing a BertForSequenceClassification model from a BertForPreTraining model).\n",
      "- This IS NOT expected if you are initializing TFBertModel from the checkpoint of a model that you expect to be exactly identical (initializing a BertForSequenceClassification model from a BertForSequenceClassification model).\n",
      "All the layers of TFBertModel were initialized from the model checkpoint at ../input/huggingface-bert-variants/bert-base-cased/bert-base-cased.\n",
      "If your task is similar to the task the model of the checkpoint was trained on, you can already use TFBertModel for predictions without further training.\n",
      "/opt/conda/lib/python3.7/site-packages/keras/optimizer_v2/optimizer_v2.py:356: UserWarning: The `lr` argument is deprecated, use `learning_rate` instead.\n",
      "  \"The `lr` argument is deprecated, use `learning_rate` instead.\")\n"
     ]
    }
   ],
   "source": [
    "from tensorflow.keras.layers import Dense, Input, Dropout\n",
    "from tensorflow.keras.optimizers import Adam\n",
    "from tensorflow.keras.models import Model\n",
    "\n",
    "lr = 0.00001\n",
    "\n",
    "input_ids = Input(shape=(MAX_LEN,), dtype=tf.int32, name=\"input_ids\")\n",
    "token_type_ids = Input(shape=(MAX_LEN,), dtype=tf.int32, name=\"token_type_ids\")\n",
    "attention_mask = Input(shape=(MAX_LEN,), dtype=tf.int32, name=\"attention_mask\")\n",
    "\n",
    "bert_model = (TFBertModel.from_pretrained('../input/huggingface-bert-variants/bert-base-cased/bert-base-cased'))\n",
    "sequence_output = bert_model(input_ids, token_type_ids=token_type_ids, attention_mask=attention_mask)[0]\n",
    "\n",
    "clf_output = sequence_output[:, 0, :]\n",
    "clf_output = Dropout(0.3)(clf_output)\n",
    "clf_output = Dense(16, activation='softmax')(clf_output)\n",
    "out = Dense(3, activation='softmax')(clf_output)\n",
    "    \n",
    "model = Model(inputs=[input_ids, token_type_ids, attention_mask], outputs=out)\n",
    "model.compile(Adam(lr=lr), loss='sparse_categorical_crossentropy', metrics=['accuracy'])"
   ]
  },
  {
   "cell_type": "code",
   "execution_count": 15,
   "id": "f8b95264",
   "metadata": {
    "execution": {
     "iopub.execute_input": "2022-06-08T11:26:50.602302Z",
     "iopub.status.busy": "2022-06-08T11:26:50.601721Z",
     "iopub.status.idle": "2022-06-08T11:26:50.625759Z",
     "shell.execute_reply": "2022-06-08T11:26:50.624187Z"
    },
    "papermill": {
     "duration": 0.036607,
     "end_time": "2022-06-08T11:26:50.628611",
     "exception": false,
     "start_time": "2022-06-08T11:26:50.592004",
     "status": "completed"
    },
    "tags": []
   },
   "outputs": [
    {
     "name": "stdout",
     "output_type": "stream",
     "text": [
      "Model: \"model\"\n",
      "__________________________________________________________________________________________________\n",
      "Layer (type)                    Output Shape         Param #     Connected to                     \n",
      "==================================================================================================\n",
      "input_ids (InputLayer)          [(None, 256)]        0                                            \n",
      "__________________________________________________________________________________________________\n",
      "attention_mask (InputLayer)     [(None, 256)]        0                                            \n",
      "__________________________________________________________________________________________________\n",
      "token_type_ids (InputLayer)     [(None, 256)]        0                                            \n",
      "__________________________________________________________________________________________________\n",
      "tf_bert_model (TFBertModel)     TFBaseModelOutputWit 108310272   input_ids[0][0]                  \n",
      "                                                                 attention_mask[0][0]             \n",
      "                                                                 token_type_ids[0][0]             \n",
      "__________________________________________________________________________________________________\n",
      "tf.__operators__.getitem (Slici (None, 768)          0           tf_bert_model[0][0]              \n",
      "__________________________________________________________________________________________________\n",
      "dropout_37 (Dropout)            (None, 768)          0           tf.__operators__.getitem[0][0]   \n",
      "__________________________________________________________________________________________________\n",
      "dense (Dense)                   (None, 16)           12304       dropout_37[0][0]                 \n",
      "__________________________________________________________________________________________________\n",
      "dense_1 (Dense)                 (None, 3)            51          dense[0][0]                      \n",
      "==================================================================================================\n",
      "Total params: 108,322,627\n",
      "Trainable params: 108,322,627\n",
      "Non-trainable params: 0\n",
      "__________________________________________________________________________________________________\n"
     ]
    }
   ],
   "source": [
    "model.summary()"
   ]
  },
  {
   "cell_type": "code",
   "execution_count": 16,
   "id": "355ab4bc",
   "metadata": {
    "execution": {
     "iopub.execute_input": "2022-06-08T11:26:50.647224Z",
     "iopub.status.busy": "2022-06-08T11:26:50.646769Z",
     "iopub.status.idle": "2022-06-08T12:02:31.308671Z",
     "shell.execute_reply": "2022-06-08T12:02:31.307583Z"
    },
    "papermill": {
     "duration": 2140.674211,
     "end_time": "2022-06-08T12:02:31.311240",
     "exception": false,
     "start_time": "2022-06-08T11:26:50.637029",
     "status": "completed"
    },
    "tags": []
   },
   "outputs": [
    {
     "name": "stdout",
     "output_type": "stream",
     "text": [
      "Epoch 1/15\n"
     ]
    },
    {
     "name": "stderr",
     "output_type": "stream",
     "text": [
      "2022-06-08 11:27:04.768663: I tensorflow/compiler/mlir/mlir_graph_optimization_pass.cc:185] None of the MLIR Optimization Passes are enabled (registered 2)\n"
     ]
    },
    {
     "name": "stdout",
     "output_type": "stream",
     "text": [
      "200/200 [==============================] - 162s 716ms/step - loss: 0.9964 - accuracy: 0.5566 - val_loss: 0.9916 - val_accuracy: 0.5579\n",
      "Epoch 2/15\n",
      "200/200 [==============================] - 140s 702ms/step - loss: 0.9825 - accuracy: 0.5731 - val_loss: 0.9750 - val_accuracy: 0.5579\n",
      "Epoch 3/15\n",
      "200/200 [==============================] - 140s 702ms/step - loss: 0.9652 - accuracy: 0.5803 - val_loss: 0.9541 - val_accuracy: 0.5672\n",
      "Epoch 4/15\n",
      "200/200 [==============================] - 140s 700ms/step - loss: 0.9537 - accuracy: 0.6044 - val_loss: 0.9379 - val_accuracy: 0.6331\n",
      "Epoch 5/15\n",
      "200/200 [==============================] - 140s 701ms/step - loss: 0.9344 - accuracy: 0.6281 - val_loss: 0.9308 - val_accuracy: 0.6392\n",
      "Epoch 6/15\n",
      "200/200 [==============================] - 140s 699ms/step - loss: 0.9266 - accuracy: 0.6369 - val_loss: 0.9299 - val_accuracy: 0.6228\n",
      "Epoch 7/15\n",
      "200/200 [==============================] - 139s 697ms/step - loss: 0.9210 - accuracy: 0.6447 - val_loss: 0.9201 - val_accuracy: 0.6437\n",
      "Epoch 8/15\n",
      "200/200 [==============================] - 140s 700ms/step - loss: 0.9149 - accuracy: 0.6547 - val_loss: 0.9286 - val_accuracy: 0.6570\n",
      "Epoch 9/15\n",
      "200/200 [==============================] - 140s 701ms/step - loss: 0.9194 - accuracy: 0.6456 - val_loss: 0.9143 - val_accuracy: 0.6564\n",
      "Epoch 10/15\n",
      "200/200 [==============================] - 140s 701ms/step - loss: 0.9067 - accuracy: 0.6559 - val_loss: 0.9103 - val_accuracy: 0.6431\n",
      "Epoch 11/15\n",
      "200/200 [==============================] - 140s 700ms/step - loss: 0.9061 - accuracy: 0.6644 - val_loss: 0.9139 - val_accuracy: 0.6437\n",
      "Epoch 12/15\n",
      "200/200 [==============================] - 140s 699ms/step - loss: 0.8975 - accuracy: 0.6681 - val_loss: 0.9091 - val_accuracy: 0.6352\n",
      "Epoch 13/15\n",
      "200/200 [==============================] - 140s 703ms/step - loss: 0.9005 - accuracy: 0.6534 - val_loss: 0.9063 - val_accuracy: 0.6494\n",
      "Epoch 14/15\n",
      "200/200 [==============================] - 140s 702ms/step - loss: 0.8990 - accuracy: 0.6562 - val_loss: 0.9087 - val_accuracy: 0.6603\n",
      "Epoch 15/15\n",
      "200/200 [==============================] - 140s 703ms/step - loss: 0.8956 - accuracy: 0.6722 - val_loss: 0.9029 - val_accuracy: 0.6461\n"
     ]
    }
   ],
   "source": [
    "epochs = 15\n",
    "\n",
    "history = model.fit(\n",
    "    train_dataset,\n",
    "    steps_per_epoch=200,\n",
    "    validation_data=valid_dataset,\n",
    "    epochs=epochs\n",
    ")"
   ]
  },
  {
   "cell_type": "code",
   "execution_count": 17,
   "id": "b2385d20",
   "metadata": {
    "execution": {
     "iopub.execute_input": "2022-06-08T12:02:31.965774Z",
     "iopub.status.busy": "2022-06-08T12:02:31.965144Z",
     "iopub.status.idle": "2022-06-08T12:03:53.937582Z",
     "shell.execute_reply": "2022-06-08T12:03:53.936365Z"
    },
    "papermill": {
     "duration": 82.584568,
     "end_time": "2022-06-08T12:03:54.171293",
     "exception": false,
     "start_time": "2022-06-08T12:02:31.586725",
     "status": "completed"
    },
    "tags": []
   },
   "outputs": [
    {
     "name": "stdout",
     "output_type": "stream",
     "text": [
      "230/230 [==============================] - 43s 187ms/step - loss: 0.8954 - accuracy: 0.6655\n"
     ]
    },
    {
     "data": {
      "text/plain": [
       "[0.8953918218612671, 0.6654881834983826]"
      ]
     },
     "execution_count": 17,
     "metadata": {},
     "output_type": "execute_result"
    }
   ],
   "source": [
    "model.evaluate(test_dataset)"
   ]
  },
  {
   "cell_type": "code",
   "execution_count": 18,
   "id": "7a9f7d47",
   "metadata": {
    "execution": {
     "iopub.execute_input": "2022-06-08T12:03:54.636348Z",
     "iopub.status.busy": "2022-06-08T12:03:54.635928Z",
     "iopub.status.idle": "2022-06-08T12:03:55.194441Z",
     "shell.execute_reply": "2022-06-08T12:03:55.193339Z"
    },
    "papermill": {
     "duration": 0.798939,
     "end_time": "2022-06-08T12:03:55.196882",
     "exception": false,
     "start_time": "2022-06-08T12:03:54.397943",
     "status": "completed"
    },
    "tags": []
   },
   "outputs": [
    {
     "data": {
      "image/png": "[encoded data removed]",
      "text/plain": [
       "<Figure size 1080x864 with 1 Axes>"
      ]
     },
     "metadata": {
      "needs_background": "light"
     },
     "output_type": "display_data"
    },
    {
     "data": {
      "image/png": "[encoded data removed]",
      "text/plain": [
       "<Figure size 1080x864 with 1 Axes>"
      ]
     },
     "metadata": {
      "needs_background": "light"
     },
     "output_type": "display_data"
    }
   ],
   "source": [
    "figsize = (15, 12)\n",
    "\n",
    "plt.figure(figsize=figsize)\n",
    "plt.plot(history.history['accuracy'])\n",
    "plt.plot(history.history['val_accuracy'])\n",
    "plt.title('model accuracy')\n",
    "plt.ylabel('accuracy')\n",
    "plt.xlabel('epoch')\n",
    "plt.legend(['train', 'test'], loc='upper left')\n",
    "plt.show()\n",
    "# summarize history for loss\n",
    "plt.figure(figsize=figsize)\n",
    "plt.plot(history.history['loss'])\n",
    "plt.plot(history.history['val_loss'])\n",
    "plt.title('model loss')\n",
    "plt.ylabel('loss')\n",
    "plt.xlabel('epoch')\n",
    "plt.legend(['train', 'test'], loc='upper left')\n",
    "plt.show()"
   ]
  },
  {
   "cell_type": "markdown",
   "id": "877c69f1",
   "metadata": {
    "papermill": {
     "duration": 0.239309,
     "end_time": "2022-06-08T12:03:55.665959",
     "exception": false,
     "start_time": "2022-06-08T12:03:55.426650",
     "status": "completed"
    },
    "tags": []
   },
   "source": [
    "## Submission"
   ]
  },
  {
   "cell_type": "code",
   "execution_count": 19,
   "id": "be8caa19",
   "metadata": {
    "execution": {
     "iopub.execute_input": "2022-06-08T12:03:56.129251Z",
     "iopub.status.busy": "2022-06-08T12:03:56.128721Z",
     "iopub.status.idle": "2022-06-08T12:03:56.155898Z",
     "shell.execute_reply": "2022-06-08T12:03:56.154796Z"
    },
    "papermill": {
     "duration": 0.264737,
     "end_time": "2022-06-08T12:03:56.157979",
     "exception": false,
     "start_time": "2022-06-08T12:03:55.893242",
     "status": "completed"
    },
    "tags": []
   },
   "outputs": [
    {
     "data": {
      "text/html": [
       "<div>\n",
       "<style scoped>\n",
       "    .dataframe tbody tr th:only-of-type {\n",
       "        vertical-align: middle;\n",
       "    }\n",
       "\n",
       "    .dataframe tbody tr th {\n",
       "        vertical-align: top;\n",
       "    }\n",
       "\n",
       "    .dataframe thead th {\n",
       "        text-align: right;\n",
       "    }\n",
       "</style>\n",
       "<table border=\"1\" class=\"dataframe\">\n",
       "  <thead>\n",
       "    <tr style=\"text-align: right;\">\n",
       "      <th></th>\n",
       "      <th>discourse_id</th>\n",
       "      <th>essay_id</th>\n",
       "      <th>discourse_text</th>\n",
       "      <th>discourse_type</th>\n",
       "    </tr>\n",
       "  </thead>\n",
       "  <tbody>\n",
       "    <tr>\n",
       "      <th>0</th>\n",
       "      <td>a261b6e14276</td>\n",
       "      <td>D72CB1C11673</td>\n",
       "      <td>Making choices in life can be very difficult. ...</td>\n",
       "      <td>Lead</td>\n",
       "    </tr>\n",
       "    <tr>\n",
       "      <th>1</th>\n",
       "      <td>5a88900e7dc1</td>\n",
       "      <td>D72CB1C11673</td>\n",
       "      <td>Seeking multiple opinions can help a person ma...</td>\n",
       "      <td>Position</td>\n",
       "    </tr>\n",
       "    <tr>\n",
       "      <th>2</th>\n",
       "      <td>9790d835736b</td>\n",
       "      <td>D72CB1C11673</td>\n",
       "      <td>it can decrease stress levels</td>\n",
       "      <td>Claim</td>\n",
       "    </tr>\n",
       "    <tr>\n",
       "      <th>3</th>\n",
       "      <td>75ce6d68b67b</td>\n",
       "      <td>D72CB1C11673</td>\n",
       "      <td>a great chance to learn something new</td>\n",
       "      <td>Claim</td>\n",
       "    </tr>\n",
       "    <tr>\n",
       "      <th>4</th>\n",
       "      <td>93578d946723</td>\n",
       "      <td>D72CB1C11673</td>\n",
       "      <td>can be very helpful and beneficial.</td>\n",
       "      <td>Claim</td>\n",
       "    </tr>\n",
       "  </tbody>\n",
       "</table>\n",
       "</div>"
      ],
      "text/plain": [
       "   discourse_id      essay_id  \\\n",
       "0  a261b6e14276  D72CB1C11673   \n",
       "1  5a88900e7dc1  D72CB1C11673   \n",
       "2  9790d835736b  D72CB1C11673   \n",
       "3  75ce6d68b67b  D72CB1C11673   \n",
       "4  93578d946723  D72CB1C11673   \n",
       "\n",
       "                                      discourse_text discourse_type  \n",
       "0  Making choices in life can be very difficult. ...           Lead  \n",
       "1  Seeking multiple opinions can help a person ma...       Position  \n",
       "2                     it can decrease stress levels           Claim  \n",
       "3             a great chance to learn something new           Claim  \n",
       "4               can be very helpful and beneficial.           Claim  "
      ]
     },
     "execution_count": 19,
     "metadata": {},
     "output_type": "execute_result"
    }
   ],
   "source": [
    "df_test = pd.read_csv('../input/feedback-prize-effectiveness/test.csv')\n",
    "df_test.head()"
   ]
  },
  {
   "cell_type": "code",
   "execution_count": 20,
   "id": "075f32a5",
   "metadata": {
    "execution": {
     "iopub.execute_input": "2022-06-08T12:03:56.642033Z",
     "iopub.status.busy": "2022-06-08T12:03:56.641624Z",
     "iopub.status.idle": "2022-06-08T12:03:56.660191Z",
     "shell.execute_reply": "2022-06-08T12:03:56.659193Z"
    },
    "papermill": {
     "duration": 0.269611,
     "end_time": "2022-06-08T12:03:56.662436",
     "exception": false,
     "start_time": "2022-06-08T12:03:56.392825",
     "status": "completed"
    },
    "tags": []
   },
   "outputs": [
    {
     "data": {
      "text/html": [
       "<div>\n",
       "<style scoped>\n",
       "    .dataframe tbody tr th:only-of-type {\n",
       "        vertical-align: middle;\n",
       "    }\n",
       "\n",
       "    .dataframe tbody tr th {\n",
       "        vertical-align: top;\n",
       "    }\n",
       "\n",
       "    .dataframe thead th {\n",
       "        text-align: right;\n",
       "    }\n",
       "</style>\n",
       "<table border=\"1\" class=\"dataframe\">\n",
       "  <thead>\n",
       "    <tr style=\"text-align: right;\">\n",
       "      <th></th>\n",
       "      <th>discourse_id</th>\n",
       "      <th>Ineffective</th>\n",
       "      <th>Adequate</th>\n",
       "      <th>Effective</th>\n",
       "    </tr>\n",
       "  </thead>\n",
       "  <tbody>\n",
       "    <tr>\n",
       "      <th>0</th>\n",
       "      <td>a261b6e14276</td>\n",
       "      <td>0.20</td>\n",
       "      <td>0.60</td>\n",
       "      <td>0.40</td>\n",
       "    </tr>\n",
       "    <tr>\n",
       "      <th>1</th>\n",
       "      <td>5a88900e7dc1</td>\n",
       "      <td>3.00</td>\n",
       "      <td>6.00</td>\n",
       "      <td>1.00</td>\n",
       "    </tr>\n",
       "    <tr>\n",
       "      <th>2</th>\n",
       "      <td>9790d835736b</td>\n",
       "      <td>1.00</td>\n",
       "      <td>2.00</td>\n",
       "      <td>3.00</td>\n",
       "    </tr>\n",
       "    <tr>\n",
       "      <th>3</th>\n",
       "      <td>75ce6d68b67b</td>\n",
       "      <td>0.33</td>\n",
       "      <td>0.34</td>\n",
       "      <td>0.33</td>\n",
       "    </tr>\n",
       "    <tr>\n",
       "      <th>4</th>\n",
       "      <td>93578d946723</td>\n",
       "      <td>0.01</td>\n",
       "      <td>0.24</td>\n",
       "      <td>0.47</td>\n",
       "    </tr>\n",
       "  </tbody>\n",
       "</table>\n",
       "</div>"
      ],
      "text/plain": [
       "   discourse_id  Ineffective  Adequate  Effective\n",
       "0  a261b6e14276         0.20      0.60       0.40\n",
       "1  5a88900e7dc1         3.00      6.00       1.00\n",
       "2  9790d835736b         1.00      2.00       3.00\n",
       "3  75ce6d68b67b         0.33      0.34       0.33\n",
       "4  93578d946723         0.01      0.24       0.47"
      ]
     },
     "execution_count": 20,
     "metadata": {},
     "output_type": "execute_result"
    }
   ],
   "source": [
    "pd.read_csv('../input/feedback-prize-effectiveness/sample_submission.csv').head()"
   ]
  },
  {
   "cell_type": "code",
   "execution_count": 21,
   "id": "0445696e",
   "metadata": {
    "execution": {
     "iopub.execute_input": "2022-06-08T12:03:57.170901Z",
     "iopub.status.busy": "2022-06-08T12:03:57.170502Z",
     "iopub.status.idle": "2022-06-08T12:03:57.194133Z",
     "shell.execute_reply": "2022-06-08T12:03:57.193173Z"
    },
    "papermill": {
     "duration": 0.260529,
     "end_time": "2022-06-08T12:03:57.196663",
     "exception": false,
     "start_time": "2022-06-08T12:03:56.936134",
     "status": "completed"
    },
    "tags": []
   },
   "outputs": [],
   "source": [
    "df_test['input'] = df_test.discourse_type + sep + df_test.discourse_text\n",
    "test_text = bert_encode(df_test.input.astype(str), tokenizer)"
   ]
  },
  {
   "cell_type": "code",
   "execution_count": 22,
   "id": "dd756d64",
   "metadata": {
    "execution": {
     "iopub.execute_input": "2022-06-08T12:03:57.665834Z",
     "iopub.status.busy": "2022-06-08T12:03:57.665457Z",
     "iopub.status.idle": "2022-06-08T12:04:01.191883Z",
     "shell.execute_reply": "2022-06-08T12:04:01.190819Z"
    },
    "papermill": {
     "duration": 3.763599,
     "end_time": "2022-06-08T12:04:01.194093",
     "exception": false,
     "start_time": "2022-06-08T12:03:57.430494",
     "status": "completed"
    },
    "tags": []
   },
   "outputs": [
    {
     "name": "stdout",
     "output_type": "stream",
     "text": [
      "1/1 [==============================] - 3s 3s/step\n"
     ]
    },
    {
     "data": {
      "text/plain": [
       "array([[0.17029339, 0.42542726, 0.40427938],\n",
       "       [0.19427371, 0.49555874, 0.3101676 ],\n",
       "       [0.19772811, 0.506302  , 0.29596993],\n",
       "       [0.19816115, 0.5067588 , 0.29508007],\n",
       "       [0.19939877, 0.50639576, 0.29420546],\n",
       "       [0.17296673, 0.41609564, 0.41093758],\n",
       "       [0.17361307, 0.4139586 , 0.41242835],\n",
       "       [0.19808915, 0.5068246 , 0.2950862 ],\n",
       "       [0.17182192, 0.4197974 , 0.40838072],\n",
       "       [0.17088102, 0.42699045, 0.4021286 ]], dtype=float32)"
      ]
     },
     "execution_count": 22,
     "metadata": {},
     "output_type": "execute_result"
    }
   ],
   "source": [
    "pred = model.predict(test_text, verbose=1)\n",
    "pred"
   ]
  },
  {
   "cell_type": "code",
   "execution_count": 23,
   "id": "109417b4",
   "metadata": {
    "execution": {
     "iopub.execute_input": "2022-06-08T12:04:01.659958Z",
     "iopub.status.busy": "2022-06-08T12:04:01.659569Z",
     "iopub.status.idle": "2022-06-08T12:04:01.672058Z",
     "shell.execute_reply": "2022-06-08T12:04:01.670872Z"
    },
    "papermill": {
     "duration": 0.245387,
     "end_time": "2022-06-08T12:04:01.674804",
     "exception": false,
     "start_time": "2022-06-08T12:04:01.429417",
     "status": "completed"
    },
    "tags": []
   },
   "outputs": [],
   "source": [
    "df_test['Ineffective'] = pred[:,0]\n",
    "df_test['Adequate'] = pred[:,1]\n",
    "df_test['Effective'] = pred[:,2]\n",
    "df_test.drop(['essay_id','discourse_text','discourse_type', 'input'], axis=1, inplace=True)"
   ]
  },
  {
   "cell_type": "code",
   "execution_count": 24,
   "id": "b08eccde",
   "metadata": {
    "execution": {
     "iopub.execute_input": "2022-06-08T12:04:02.141955Z",
     "iopub.status.busy": "2022-06-08T12:04:02.141398Z",
     "iopub.status.idle": "2022-06-08T12:04:02.153746Z",
     "shell.execute_reply": "2022-06-08T12:04:02.152608Z"
    },
    "papermill": {
     "duration": 0.24734,
     "end_time": "2022-06-08T12:04:02.157441",
     "exception": false,
     "start_time": "2022-06-08T12:04:01.910101",
     "status": "completed"
    },
    "tags": []
   },
   "outputs": [
    {
     "data": {
      "text/html": [
       "<div>\n",
       "<style scoped>\n",
       "    .dataframe tbody tr th:only-of-type {\n",
       "        vertical-align: middle;\n",
       "    }\n",
       "\n",
       "    .dataframe tbody tr th {\n",
       "        vertical-align: top;\n",
       "    }\n",
       "\n",
       "    .dataframe thead th {\n",
       "        text-align: right;\n",
       "    }\n",
       "</style>\n",
       "<table border=\"1\" class=\"dataframe\">\n",
       "  <thead>\n",
       "    <tr style=\"text-align: right;\">\n",
       "      <th></th>\n",
       "      <th>discourse_id</th>\n",
       "      <th>Ineffective</th>\n",
       "      <th>Adequate</th>\n",
       "      <th>Effective</th>\n",
       "    </tr>\n",
       "  </thead>\n",
       "  <tbody>\n",
       "    <tr>\n",
       "      <th>0</th>\n",
       "      <td>a261b6e14276</td>\n",
       "      <td>0.170293</td>\n",
       "      <td>0.425427</td>\n",
       "      <td>0.404279</td>\n",
       "    </tr>\n",
       "    <tr>\n",
       "      <th>1</th>\n",
       "      <td>5a88900e7dc1</td>\n",
       "      <td>0.194274</td>\n",
       "      <td>0.495559</td>\n",
       "      <td>0.310168</td>\n",
       "    </tr>\n",
       "    <tr>\n",
       "      <th>2</th>\n",
       "      <td>9790d835736b</td>\n",
       "      <td>0.197728</td>\n",
       "      <td>0.506302</td>\n",
       "      <td>0.295970</td>\n",
       "    </tr>\n",
       "    <tr>\n",
       "      <th>3</th>\n",
       "      <td>75ce6d68b67b</td>\n",
       "      <td>0.198161</td>\n",
       "      <td>0.506759</td>\n",
       "      <td>0.295080</td>\n",
       "    </tr>\n",
       "    <tr>\n",
       "      <th>4</th>\n",
       "      <td>93578d946723</td>\n",
       "      <td>0.199399</td>\n",
       "      <td>0.506396</td>\n",
       "      <td>0.294205</td>\n",
       "    </tr>\n",
       "  </tbody>\n",
       "</table>\n",
       "</div>"
      ],
      "text/plain": [
       "   discourse_id  Ineffective  Adequate  Effective\n",
       "0  a261b6e14276     0.170293  0.425427   0.404279\n",
       "1  5a88900e7dc1     0.194274  0.495559   0.310168\n",
       "2  9790d835736b     0.197728  0.506302   0.295970\n",
       "3  75ce6d68b67b     0.198161  0.506759   0.295080\n",
       "4  93578d946723     0.199399  0.506396   0.294205"
      ]
     },
     "execution_count": 24,
     "metadata": {},
     "output_type": "execute_result"
    }
   ],
   "source": [
    "df_test.head()"
   ]
  },
  {
   "cell_type": "code",
   "execution_count": 25,
   "id": "3327ac43",
   "metadata": {
    "execution": {
     "iopub.execute_input": "2022-06-08T12:04:02.675132Z",
     "iopub.status.busy": "2022-06-08T12:04:02.674724Z",
     "iopub.status.idle": "2022-06-08T12:04:02.683675Z",
     "shell.execute_reply": "2022-06-08T12:04:02.682642Z"
    },
    "papermill": {
     "duration": 0.246998,
     "end_time": "2022-06-08T12:04:02.685966",
     "exception": false,
     "start_time": "2022-06-08T12:04:02.438968",
     "status": "completed"
    },
    "tags": []
   },
   "outputs": [],
   "source": [
    "df_test.to_csv(\"submission.csv\", index=False)"
   ]
  }
 ],
 "metadata": {
  "kernelspec": {
   "display_name": "Python 3",
   "language": "python",
   "name": "python3"
  },
  "language_info": {
   "codemirror_mode": {
    "name": "ipython",
    "version": 3
   },
   "file_extension": ".py",
   "mimetype": "text/x-python",
   "name": "python",
   "nbconvert_exporter": "python",
   "pygments_lexer": "ipython3",
   "version": "3.7.12"
  },
  "papermill": {
   "default_parameters": {},
   "duration": 2337.771039,
   "end_time": "2022-06-08T12:04:06.597549",
   "environment_variables": {},
   "exception": null,
   "input_path": "__notebook__.ipynb",
   "output_path": "__notebook__.ipynb",
   "parameters": {},
   "start_time": "2022-06-08T11:25:08.826510",
   "version": "2.3.4"
  }
 },
 "nbformat": 4,
 "nbformat_minor": 5
}
